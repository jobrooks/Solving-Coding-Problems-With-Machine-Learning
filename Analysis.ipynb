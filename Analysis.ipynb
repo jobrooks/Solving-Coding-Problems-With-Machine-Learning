{
 "cells": [
  {
   "cell_type": "code",
   "execution_count": 5,
   "metadata": {},
   "outputs": [
    {
     "ename": "SyntaxError",
     "evalue": "(unicode error) 'unicodeescape' codec can't decode bytes in position 2-3: truncated \\UXXXXXXXX escape (1360068498.py, line 25)",
     "output_type": "error",
     "traceback": [
      "\u001b[1;36m  Cell \u001b[1;32mIn[5], line 25\u001b[1;36m\u001b[0m\n\u001b[1;33m    folder_path = 'C:\\Users\\jobri\\Solving-Coding-Problems-With-Machine-Learning\\kattis'\u001b[0m\n\u001b[1;37m                                                                                       ^\u001b[0m\n\u001b[1;31mSyntaxError\u001b[0m\u001b[1;31m:\u001b[0m (unicode error) 'unicodeescape' codec can't decode bytes in position 2-3: truncated \\UXXXXXXXX escape\n"
     ]
    }
   ],
   "source": [
    "import os\n",
    "import ast\n",
    "\n",
    "def extract_comments_from_file(filename):\n",
    "    with open(filename, 'r') as file:\n",
    "        tree = ast.parse(file.read(), filename=filename)\n",
    "\n",
    "    comments = []\n",
    "    for node in ast.walk(tree):\n",
    "        if isinstance(node, ast.Expr) and isinstance(node.value, ast.Str):\n",
    "            comments.append(node.value.s)\n",
    "\n",
    "    return comments\n",
    "\n",
    "def extract_comments_from_folder(folder):\n",
    "    comments = []\n",
    "    for root, _, files in os.walk(folder):\n",
    "        for file in files:\n",
    "            if file.endswith('.py'):\n",
    "                filepath = os.path.join(root, file)\n",
    "                comments.extend(extract_comments_from_file(filepath))\n",
    "\n",
    "    return comments\n",
    "\n",
    "folder_path = 'kattis'\n",
    "comments = extract_comments_from_folder(folder_path)\n",
    "for comment in comments:\n",
    "    print(comment)\n",
    "\n"
   ]
  }
 ],
 "metadata": {
  "kernelspec": {
   "display_name": "Kattis-1BYb5w23",
   "language": "python",
   "name": "python3"
  },
  "language_info": {
   "codemirror_mode": {
    "name": "ipython",
    "version": 3
   },
   "file_extension": ".py",
   "mimetype": "text/x-python",
   "name": "python",
   "nbconvert_exporter": "python",
   "pygments_lexer": "ipython3",
   "version": "3.10.11"
  }
 },
 "nbformat": 4,
 "nbformat_minor": 2
}
