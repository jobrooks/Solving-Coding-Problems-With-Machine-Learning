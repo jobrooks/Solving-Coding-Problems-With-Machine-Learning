{
 "cells": [
  {
   "cell_type": "code",
   "execution_count": 3,
   "metadata": {},
   "outputs": [],
   "source": [
    "import os\n",
    "import csv\n",
    "import re\n",
    "import pandas as pd\n",
    "import matplotlib.pyplot as plt\n",
    "import spacy\n",
    "from spacy.lang.en.stop_words import STOP_WORDS\n",
    "from spacy.tokens import Doc, Span\n",
    "from spacy.pipeline import Pipe\n",
    "from collections import Counter\n",
    "\n",
    "# Load the English language model\n",
    "nlp = spacy.load(\"en_core_web_sm\")"
   ]
  },
  {
   "cell_type": "code",
   "execution_count": null,
   "metadata": {},
   "outputs": [],
   "source": [
    "# This code block gives the comments in a formatted way which lets us convert to a dataframe\n",
    "def get_comments(filepath):\n",
    "    comments = []\n",
    "    with open(filepath, 'r') as f:\n",
    "        for line in f:\n",
    "            line = line.strip()\n",
    "            if line.startswith('#'):\n",
    "                comments.append(line)\n",
    "            else:\n",
    "                break \n",
    "    return comments\n",
    "\n",
    "def extract_info(comment):\n",
    "    # Regular expression to extract difficulty, result, and tests from comments\n",
    "    pattern = r'# (\\d+\\.\\d+) (\\w+ [\\w\\s-]+) (\\d+/\\d+)'\n",
    "    match = re.match(pattern, comment)\n",
    "    if match:\n",
    "        return match.groups()\n",
    "    \n",
    "    pattern_accepted = r'# (\\d+\\.\\d+) (\\w+) (\\d+/\\d+)' \n",
    "    match_accepted = re.match(pattern_accepted, comment)\n",
    "    if match_accepted:\n",
    "        return match_accepted.groups()\n",
    "    return None\n",
    "\n",
    "def find_gpt_files(directory):\n",
    "    gpt_files = []\n",
    "    for root, _, files in os.walk(directory):\n",
    "        for file in files:\n",
    "            if file == 'gpt.py':\n",
    "                gpt_files.append(os.path.join(root, file))\n",
    "    return gpt_files\n",
    "\n",
    "def save_comments_to_csv(comments, filename):\n",
    "    with open(filename, 'w', newline='') as csvfile:\n",
    "        writer = csv.writer(csvfile)\n",
    "        writer.writerow([\"Difficulty\", \"Result\", \"Tests\"])\n",
    "        for comment in comments:\n",
    "            info = extract_info(comment)\n",
    "            if info:\n",
    "                writer.writerow(info)\n",
    "\n",
    "def main():\n",
    "    kattis_dir = os.path.join(os.getcwd(), 'kattis')\n",
    "    gpt_files = find_gpt_files(kattis_dir)\n",
    "    all_comments = []\n",
    "\n",
    "    for filepath in gpt_files:\n",
    "        comments = get_comments(filepath)\n",
    "        all_comments.extend(comments)\n",
    "\n",
    "    if all_comments:\n",
    "        csv_filename = 'kattis_comments.csv'\n",
    "        save_comments_to_csv(all_comments, csv_filename)\n",
    "        print(f\"Comments saved to CSV file: {csv_filename}\")\n",
    "    else:\n",
    "        print(\"No comments found in any gpt.py files.\")\n",
    "\n",
    "if __name__ == \"__main__\":\n",
    "    main()"
   ]
  },
  {
   "cell_type": "code",
   "execution_count": null,
   "metadata": {},
   "outputs": [],
   "source": [
    "# Creating a dataframe from the comments csv\n",
    "df_kattis = pd.read_csv(\"./kattis_comments.csv\")\n",
    "df_kattis['Result'] = df_kattis['Result'].apply(lambda x: x.lower() if isinstance(x, str) else x)\n",
    "df_kattis"
   ]
  },
  {
   "cell_type": "code",
   "execution_count": null,
   "metadata": {},
   "outputs": [],
   "source": [
    "# Creating more columns for splitting the tests \n",
    "df_kattis[['Correct', 'Total']] = df_kattis['Tests'].str.split('/',expand=True).astype(int)\n",
    "df_kattis"
   ]
  },
  {
   "cell_type": "code",
   "execution_count": null,
   "metadata": {},
   "outputs": [],
   "source": [
    "# Getting the count of each result at the difficulties\n",
    "grouped = df_kattis.groupby(['Difficulty','Result']).size().unstack(fill_value=0)\n",
    "grouped"
   ]
  },
  {
   "cell_type": "code",
   "execution_count": null,
   "metadata": {},
   "outputs": [],
   "source": [
    "# Creating a stacked bar chart for each result at each difficulty\n",
    "ax = grouped.plot(kind='bar', stacked=True, figsize=(10, 6))\n",
    "ax.set_xlabel('Difficulty')\n",
    "ax.set_ylabel('Count')\n",
    "ax.set_title('Outcome Count by Difficulty Level')\n",
    "plt.xticks(rotation=45)\n",
    "plt.legend(title='Outcome')\n",
    "plt.show()\n",
    "\n",
    "# Figure out which feutures to have as inputs in a prediction model, Figure engineering. With what to get from the problem statements. Readability, frequency of words, etc. think of meaningful features. perform unsupervised learning, understanding the features."
   ]
  },
  {
   "cell_type": "code",
   "execution_count": 4,
   "metadata": {},
   "outputs": [],
   "source": [
    "# Functions to get all problems\n",
    "def find_prompt_files(directory):\n",
    "    prompt_files = []\n",
    "    for root, _, files in os.walk(directory):\n",
    "        for file in files:\n",
    "            if 'gpt_prompt' in file:  # Check if 'gpt_prompt' is in the file name\n",
    "                prompt_files.append(os.path.join(root, file))\n",
    "    return prompt_files\n",
    "\n",
    "def get_problem(filepath):\n",
    "    with open(filepath, 'r') as f:\n",
    "        problem = f.read().strip()\n",
    "    return [problem]\n",
    "\n",
    "kattis_dir = os.path.join(os.getcwd(), 'kattis')\n",
    "prompt_files = find_prompt_files(kattis_dir)\n",
    "all_problems = []\n",
    "\n",
    "for filepath in prompt_files:\n",
    "    comments = get_problem(filepath)\n",
    "    all_problems.extend(comments)\n"
   ]
  },
  {
   "cell_type": "code",
   "execution_count": 7,
   "metadata": {},
   "outputs": [
    {
     "name": "stdout",
     "output_type": "stream",
     "text": [
      "Counter({',': 23, '.': 18, 'integers': 6, '2048': 5, '-': 5, 'puzzle': 5, '2': 5, 'tile': 5, 'input': 5, 'grid': 4, 'tiles': 4, 'th': 4, 'integer': 4, 'cell': 4, '0': 4, 'player': 3, '4x4': 3, 'contains': 3, '/': 3, '\\n\\n': 3, 'line': 3, 'new': 3, 'single': 2, 'game': 2, 'left': 2, 'right': 2, 'merge': 2, 'value': 2, '\\n': 2, 'state': 2, 'lines': 2, '16': 2, 'j': 2, 'denotes': 2, 'problem': 2, '4': 2, 'means': 2, 'output': 2, 'created': 1, 'gabriele': 1, 'cirulli1': 1, 'played': 1, ' ': 1, '>': 1, '=': 1, 'powers': 1, 'use': 1, 'keyboard': 1, 'arrow': 1, 'key': 1, '(': 1, ')': 1, 'simultaneously': 1, 'slide': 1, 'far': 1, 'possible': 1, 'chosen': 1, 'direction': 1, 'stopped': 1, 'edge': 1, 'number': 1, 'collide': 1, 'moving': 1, 'total': 1, 'collided': 1, 'resulting': 1, 'observe': 1, 'merging': 1, 'behavior': 1, 'carefully': 1, 'sample': 1, 'inputs': 1, 'outputs': 1, 'valid': 1, 'describe': 1, 'content': 1, 'located': 1, 'row': 1, '{': 1, '8': 1, '32': 1, '64': 1, '128': 1, '256': 1, '512': 1, '1024': 1, '}': 1, 'fifth': 1, '1': 1, '3': 1, 'executed': 1, 'respectively': 1, 'separated': 1, 'space': 1, 'describes': 1, 'note': 1, 'ignore': 1, 'introduces': 1, 'random': 1, 'spot': 1, 'board': 1, 'start': 1, 'turn': 1})\n",
      "Counter({'.': 15, ',': 11, '4': 8, 'integer': 6, 'solution': 5, '*': 4, 'number': 4, '\\n\\n': 4, 'given': 3, 'input': 3, 'exactly': 3, '4â€': 3, '™': 3, 's': 3, '+': 3, 'use': 3, '000': 3, 'output': 3, 'print': 3, 'equation': 3, 'n': 2, 'operations': 2, 'numbers': 2, '-': 2, 'division': 2, '(': 2, ')': 2, '\\n': 2, 'test': 2, 'target': 2, 'write': 1, 'program': 1, 'python': 1, 'produce': 1, 'mathematical': 1, 'expression': 1, 'n.': 1, 'restricted': 1, 'binary': 1, 'selected': 1, 'set': 1, '{': 1, '-</': 1, '}': 1, 'allowed': 1, 'concatenate': 1, 'fours': 1, 'generate': 1, '44': 1, '444': 1, 'example': 1, 'n=0': 1, '4=0': 1, 'n=7': 1, '4/4=7': 1, 'considered': 1, 'truncating': 1, 'â¼': 1, '0': 1, 'instead': 1, '0.25': 1, 'assume': 1, 'usual': 1, 'precedence': 1, '4=20': 1, '32': 1, 'inputs': 1, 'solutions': 1, 'aforementioned': 1, 'restrictions': 1, 'consider': 1, 'n=11': 1, 'hint': 1, ':': 1, 'forehead': 1, 'forethought': 1, 'answer': 1, 'forthcoming': 1, 'doubt': 1, 'fourth': 1, 'begins': 1, '1<=m<=1000': 1, 'indicating': 1, 'cases': 1, 'follow': 1, 'm': 1, 'lines': 1, 'contain': 1, 'value': 1, 'range': 1, '-1': 1, '000<=n<=1': 1, 'case': 1, 'line': 1, 'containing': 1, 'reach': 1, 'phrase': 1, 'following': 1, 'format': 1, 'sample': 1, ';': 1, 'spaces': 1, 'separate': 1, 'symbols': 1, 'printed': 1, 'evaluates': 1})\n",
      "Counter({'.': 9, ',': 6, 'integer': 5, '99': 4, 'n': 4, '\\n\\n': 3, 'positive': 3, 'prices': 2, 'end': 2, 'price': 2, 'product': 2, 'find': 2, 'ends': 2, 'bigger': 2, 'input': 2, '\\n': 2, 'print': 2, 'ingrid': 1, 'founder': 1, 'company': 1, 'sells': 1, 'bicycle': 1, 'parts': 1, 'set': 1, 'products': 1, 'arbitrarily': 1, 'decided': 1, 'profitable': 1, 'given': 1, 'task': 1, 'nearest': 1, 'numbers': 1, 'equally': 1, 'close': 1, 'contains': 1, '(': 1, '1<=n<=10': 1, '^': 1, '4': 1, ')': 1, 'guaranteed': 1, 'number': 1, 'output': 1, 'closest': 1, 'case': 1, 'tie': 1})\n",
      "Counter({'n': 6, '4': 6, 'number': 5, '.': 5, 'integer': 4, 'ways': 4, 'form': 4, '7': 4, ',': 4, '+': 4, '\\n\\n': 4, 'digits': 3, ':': 3, '6': 2, 'input': 2, 'single': 2, 'â‰¤': 2, 'given': 1, 'non': 1, '-': 1, 'negative': 1, 'n.': 1, 'task': 1, 'count': 1, 'example': 1, 'n=10': 1, '3': 1, '2': 1, 'write': 1, 'program': 1, 'takes': 1, 'prints': 1, '(': 1, '0': 1, '10': 1, '^': 1, ')': 1, '\\n': 1, 'output': 1, 'representing': 1})\n",
      "Counter({'paper': 14, '.': 14, ',': 12, 'a1': 6, 'bjã¶rn': 6, 'papers': 6, 'tape': 4, 'a2': 4, 'number': 4, '^': 4, 'size': 4, 'output': 4, '\\n': 3, '10': 3, 'digits': 3, 'single': 3, '\\n\\n': 3, 'sheets': 3, 'meters': 3, 'likes': 2, 'a4': 2, 'needs': 2, 'doesnâ€': 2, '™': 2, 't': 2, 'long': 2, 'a3': 2, 'length': 2, 'needed': 2, '2': 2, 'input': 2, 'line': 2, 'contains': 2, 'smallest': 2, '\"': 2, ':': 1, 'square': 1, 'root': 1, 'âˆš2': 1, '=': 1, '1.41421356â€': 1, '¦': 1, 'decided': 1, 'write': 1, '000': 1, 'started': 1, 'ran': 1, 'space': 1, 'writing': 1, '1250': 1, 'pretty': 1, 'good': 1, 'math': 1, 'quickly': 1, 'figured': 1, 'fit': 1, 'smaller': 1, 'taping': 1, 'turns': 1, 'given': 1, 'different': 1, 'sizes': 1, 'figure': 1, '?': 1, 'assume': 1, 'join': 1, 'equal': 1, '-5/4': 1, '-â¾': 1, 'consecutive': 1, '(': 1, ')': 1, 'shape': 1, 'half': 1, 'area': 1, 'previous': 1, 'integer': 1, '2<=n<=30': 1, '-': 1, 'second': 1, 'n-1': 1, 'integers': 1, 'giving': 1, 'starting': 1, 'ending': 1, '9': 1, 'floating': 1, 'point': 1, 'total': 1, 'impossible': 1, 'absolute': 1, 'error': 1, '-5': 1})\n",
      "Counter({'\"': 24, '.': 13, ',': 11, '™': 10, 'jon': 8, 'marius': 8, 'doctor': 8, 'aaah': 6, 'â€': 5, 'wants': 4, 's': 3, '\\n\\n': 3, 'input': 3, 'line': 3, 'output': 3, 'throat': 2, 'doctorâ€': 2, 'aah': 2, 'aaaaaah': 2, 'diagnose': 2, '(': 2, ')': 2, 'time': 2, 'long': 2, 'day': 2, '\\n': 2, 'aâ€': 2, 'hâ€': 2, 'shouted': 1, 'recent': 1, 'justin': 1, 'bieber': 1, 'concert': 1, 'needs': 1, 'sore': 1, 'instructions': 1, 'unfortunately': 1, 'doctors': 1, 'need': 1, 'good': 1, 'requires': 1, 'certain': 1, 'level': 1, '“': 1, 'require': 1, 'actually': 1, 'h': 1, 'wrongly': 1, 'scope': 1, 'problem': 1, 'want': 1, 'wasted': 1, 'compare': 1, 'manages': 1, 'hold': 1, 'requirements': 1, 'like': 1, '?': 1, 'calls': 1, 'different': 1, 'asks': 1, 'find': 1, 'waste': 1, 'going': 1, 'given': 1, 'consists': 1, 'lines': 1, 'able': 1, 'second': 1, 'hear': 1, 'lowercase': 1, 'contain': 1, '0': 1, '999': 1, 'inclusive': 1, 'followed': 1, 'single': 1})\n",
      "Counter({',': 8, 'b': 6, 'order': 6, \"'\": 6, '.': 5, 'given': 3, '\\n\\n': 3, 'line': 3, 'c': 3, 'integers': 2, 'c.': 2, 'numbers': 2, '\\n': 2, 'contains': 2, 'spaces': 2, 'desired': 2, 'output': 2, 'single': 2, 'exact': 1, 'know': 1, 'pleasant': 1, 'viewing': 1, 'want': 1, 'rearrange': 1, 'input': 1, 'positive': 1, 'necessarily': 1, 'equal': 1, '100': 1, 'second': 1, 'uppercase': 1, 'letters': 1, '(': 1, ')': 1, 'representing': 1, 'separated': 1})\n",
      "Counter({'.': 7, ',': 6, 'class': 3, 'integer': 3, 'average': 2, '\\n\\n': 2, 'input': 2, '\\n': 2, 'line': 2, 'number': 2, 'data': 2, 'follow': 2, 'n': 2, '(': 2, ')': 2, 'giving': 2, 'grade': 2, 'output': 2, 'said': 1, '90': 1, '%': 1, 'frosh': 1, 'expect': 1, 'provide': 1, 'reality': 1, 'check': 1, 'standard': 1, 'contains': 1, '1<=c<=50': 1, 'test': 1, 'cases': 1, 'c': 1, 'sets': 1, 'set': 1, 'begins': 1, 'people': 1, '1<=n<=1000': 1, 'integers': 1, 'separated': 1, 'spaces': 1, 'newlines': 1, 'final': 1, '0': 1, '100': 1, 'student': 1, 'case': 1, 'percentage': 1, 'students': 1, 'rounded': 1, 'exactly': 1, '3': 1, 'decimal': 1, 'places': 1})\n",
      "Counter({'.': 26, ',': 19, 'password': 13, '\\n\\n': 12, ')': 7, ';': 7, '(': 6, 'ms': 6, 'access': 5, ':': 5, '\\n': 5, 'takes': 5, '\\n    ': 5, '1': 5, 'timing': 4, '{': 4, 'return': 4, '}': 4, '\"': 4, 'time': 3, 'ctss': 3, 'string': 3, '=': 3, '\\n        ': 3, 'submission': 3, 'program': 3, 'denied': 2, 'computer': 2, 'simple': 2, 'disk': 2, 'comparison': 2, 'attack': 2, 'computation': 2, 'algorithm': 2, 'pwd1.length': 2, '!': 2, 'false': 2, ']': 2, 'problem': 2, 'model': 2, 'statement': 2, 'memory': 2, '20': 2, 'english': 2, 'letters': 2, 'upper': 2, 'lower': 2, 'case': 2, 'digits': 2, 'interaction': 2, 'interactor': 2, 'standard': 2, 'correct': 2, 't': 2, 'guess': 2, 'passwords': 1, 'long': 1, 'fact': 1, '60': 1, 'years': 1, 'ago': 1, 'computers': 1, 'implementation': 1, 'stored': 1, 'plain': 1, 'text': 1, 'file': 1, 'logging': 1, 'user': 1, 'enter': 1, 'compare': 1, 'failed': 1, 'deny': 1, 'succeeded': 1, 'allowed': 1, 'researchers': 1, 'mit': 1, 'quick': 1, 'discover': 1, 'security': 1, 'flaws': 1, 'system': 1, 'explore': 1, 'exploit': 1, 'deduce': 1, 'path': 1, 'check': 1, 'matching': 1, 'similar': 1, 'bool': 1, 'checkpassword(string': 1, 'pwd1': 1, 'pwd2': 1, 'pwd2.length': 1, 'int': 1, '0': 1, '<': 1, 'i++': 1, 'pwd1[i': 1, 'pwd2[i': 1, '\\n            ': 1, 'true': 1, 'purpose': 1, 'use': 1, 'simplified': 1, 'looks': 1, 'follows': 1, 'branching': 1, 'assignment': 1, 'update': 1, 'address': 1, 'addresses': 1, '3': 1, 'consists': 1, 'interactive': 1, 'run': 1, 'reads': 1, 'output': 1, 'writes': 1, 'input': 1, 'needs': 1, 'follow': 1, 'specific': 1, 'protocol': 1, 'sends': 1, 'consisting': 1, 'depending': 1, 'responds': 1, 'granted': 1, 'exit': 1, 'cleanly': 1, 'incorrect': 1, 'took': 1, 'verify': 1, 'sure': 1, 'flush': 1, 'buffer': 1, 'write': 1, '2500': 1, 'times': 1, 'testing': 1, 'tool': 1, 'provided': 1, 'help': 1, 'develop': 1, 'solution': 1})\n",
      "Counter({',': 28, '\\n': 20, '.': 18, 'wrong': 14, 'minutes': 12, 'submission': 10, 'problem': 10, 'right': 10, 'team': 9, '(': 8, ')': 8, 'contest': 7, 'log': 7, 'problems': 7, 'number': 6, '\\n\\n': 6, 'e': 6, 'b': 6, '300': 6, 'time': 6, ':': 5, 'c': 5, 'measure': 5, 'solved': 5, 'penalties': 5, 'entry': 4, 'particular': 4, 'd': 4, 'solving': 4, 'received': 3, 'example': 3, '3': 3, '100': 3, '200': 3, 'score': 3, '20': 3, 'attempt': 3, 'including': 3, '80': 3, '+': 3, 'line': 3, 'chronological': 2, 'submissions': 2, 'letter': 2, 'following': 2, '30': 2, 'primary': 2, 'secondary': 2, 'times': 2, 'minute': 2, 'penalty': 2, ';': 2, '40': 2, '7': 2, 'h': 2, '35': 2, 'total': 2, 'input': 2, 'designating': 2, 'integers': 2, 'output': 2, 'new': 1, 'system': 1, 'keeps': 1, 'records': 1, 'competition': 1, 'identifies': 1, 'relevant': 1, 'result': 1, 'testing': 1, 'designated': 1, 'sake': 1, 'simply': 1, 'hypothetical': 1, '10': 1, '50': 1, '250': 1, 'rank': 1, 'relative': 1, 'determined': 1, 'scoring': 1, 'calculated': 1, 'data': 1, 'based': 1, 'combination': 1, 'specifically': 1, 'equal': 1, 'sum': 1, 'resulted': 1, 'answers': 1, 'plus': 1, '-': 1, 'ultimately': 1, '0': 1, 'successfully': 1, 'completed': 1, '543': 1, 'computed': 1, 'include': 1, 'additional': 1, 'earlier': 1, 'mistakes': 1, 'finally': 1, 'd.': 1, 'note': 1, 'attempted': 1, 'successful': 1, 'attempts': 1, 'according': 1, 'rules': 1, 'solves': 1, 'ignored': 1, 'omitted': 1, 'discretized': 1, 'showing': 1, 'possibly': 1, 'correct': 1, 'second': 1, 'consider': 1, '15': 1, '4': 1, '502': 1, 'c.': 1, 'contains': 1, 'n': 1, 'lines': 1, '0<=n<=100': 1, 'describing': 1, 'parts': 1, 'integer': 1, 'm': 1, '1<=m<=300': 1, 'uppercase': 1, 'word': 1, 'nondecreasing': 1, 'order': 1, 'contain': 1, 'repeats': 1, 'entries': 1, 'containing': 1, '-1': 1, 'single': 1})\n",
      "Counter({'.': 17, ',': 14, '\\n\\n': 5, 'command': 5, 'calculation': 5, 'words': 4, '\\n': 4, 'variable': 4, 'word': 4, 'numbers': 3, 'program': 3, 'input': 3, 'definition': 3, 'x': 3, 'defined': 3, 'calc': 3, 'adding': 2, 'experiments': 2, 'end': 2, 'clear': 2, 'separated': 2, 'y': 2, 'range': 2, 'value': 2, 'names': 2, 'definitions': 2, 'output': 2, 'produce': 2, 'result': 2, 'unknown': 2, 'psychologists': 1, 'wassamatta': 1, 'university': 1, 'believe': 1, 'humans': 1, 'able': 1, 'easily': 1, 'deal': 1, 'devised': 1, 'find': 1, 'true': 1, 'interesting': 1, 'twist': 1, 'deals': 1, 'represent': 1, 'want': 1, 'add': 1, 'research': 1, 'programmer': 1, 'project': 1, 'job': 1, 'write': 1, 'demonstrates': 1, 'ability': 1, 'sequence': 1, '2000': 1, 'commands': 1, 'line': 1, 'ending': 1, 'file': 1, 'tokens': 1, 'single': 1, 'spaces': 1, 'format': 1, 'def': 1, 'integer': 1, '[': 1, '-1000': 1, '1000': 1, ']': 1, 'variables': 1, 'numeric': 1, 'time': 1, 'previously': 1, 'defining': 1, 'erases': 1, 'old': 1, '30': 1, 'lowercase': 1, 'characters': 1, 'character': 1, 'z.': 1, 'starts': 1, 'followed': 1, '15': 1, 'addition': 1, 'subtraction': 1, 'operators': 1, 'equals': 1, 'sign': 1, 'example': 1, ':': 1, 'foo': 1, '+': 1, 'bar': 1, '-': 1, 'car': 1, '=': 1, 'instructs': 1, 'forget': 1, 'calculations': 1})\n",
      "Counter({'\\n': 13, ',': 10, ')': 8, '=': 7, 'b': 6, '(': 5, 'input': 5, '.': 5, '\\n\\n': 5, '>': 5, ';': 5, '//': 4, '\"': 4, 'integers': 3, 'read': 2, 'numbers': 2, 'sum': 2, '#': 2, 'line': 2, 'sure': 2, 'int': 2, 'scanner': 2, 's.nextint': 2, '000': 2, 'output': 2, 'problem': 1, 'program': 1, 'called': 1, 'print': 1, 'refresher': 1, 'ways': 1, 'standard': 1, 'different': 1, 'languages': 1, ':': 1, 'python': 1, '3': 1, 'line.split': 1, 'int(a': 1, 'int(b': 1, 'c++': 1, 'include': 1, '<': 1, 'iostream': 1, 'std::cin': 1, 'java': 1, 'import': 1, 'java.util': 1, 's': 1, 'new': 1, 'scanner(system.in': 1, 'contains': 1, 'separated': 1, 'single': 1, 'space': 1, 'bounds': 1, 'values': 1, '0<=a': 1, 'b<=1': 1, 'a+b': 1})\n",
      "Counter({'.': 20, ',': 17, 'minions': 13, 'rooms': 10, '\\n\\n': 6, 'temperature': 6, '(': 5, ')': 5, 'air': 4, '\\n': 4, 'minion': 4, 'temperatures': 4, 'room': 4, 'number': 4, 'conditioned': 3, 'company': 3, 'minimum': 3, 'construct': 3, 'assign': 3, 'want': 3, 'assigned': 3, 'possible': 3, '-': 3, 'single': 2, 'n': 2, 'helsinki': 2, 'singapore': 2, 'work': 2, 'like': 2, 'fix': 2, 'different': 2, 'likes': 2, 'preferences': 2, 'need': 2, 'line': 2, 'integer': 2, 'th': 2, 'l': 2, 'u': 2, 'boss': 1, 'acm': 1, 'upstanding': 1, 'goal': 1, 'world': 1, 'domination': 1, 'works': 1, 'evilly': 1, 'early': 1, 'morning': 1, 'evening': 1, 'inside': 1, 'super': 1, 'secret': 1, 'bunker': 1, 'deliberation': 1, 'decided': 1, 'headquarters': 1, 'unlike': 1, 'hot': 1, 'entire': 1, 'complex': 1, 'strenuous': 1, 'working': 1, 'hours': 1, 'wage': 1, 'imperative': 1, 'optimal': 1, 'condition': 1, 'particular': 1, 'planning': 1, 'new': 1, 'hideout': 1, 'value': 1, 'hold': 1, 'interval': 1, 'given': 1, 'conditioners': 1, 'expensive': 1, 'maintain': 1, 'set': 1, 'discussed': 1, 'earlier': 1, '?': 1, 'input': 1, 'contains': 1, 'non': 1, 'negative': 1, '2<=n<=100': 1, 'giving': 1, 'lines': 1, 'describe': 1, 'consists': 1, 'space': 1, 'separated': 1, 'integers': 1, '1<=l<=u<=2n': 1, 'denotes': 1, 'inclusively': 1, 'output': 1, 'print': 1, 'denoting': 1, 'sample': 1, 'data': 1, 'explanation': 1, 'example': 1, 'solutions': 1, 'setup': 1, 'â€': 1, '”': 1, '2': 1, '5': 1, 'second': 1})\n",
      "Counter({',': 29, '.': 17, 'customer': 15, 'discount': 10, 'books': 9, '\\n\\n': 7, '\\n': 7, '1': 7, 'n': 6, 'gets': 5, 'price': 5, 'book': 5, 'prices': 5, 'cashier': 4, ':': 4, 'm': 4, 'integer': 4, 'â‰¤': 4, 'p1': 3, 'p2': 3, 'â€': 3, '¦': 3, 'pn': 3, 'cheapest': 3, '7': 3, '5': 3, 'program': 3, 'input': 3, 'year': 2, 'sale': 2, 'enters': 2, 'wants': 2, 'buy': 2, 'bought': 2, 'follows': 2, '2': 2, '=': 2, 'mirko': 2, 'single': 2, 'maximum': 2, 'possible': 2, 'line': 2, 'contains': 2, '(': 2, '10': 2, '^': 2, ')': 2, 'pi': 2, 'output': 2, 'bookstore': 1, 'special': 1, 'changes': 1, 'arrives': 1, 'cash': 1, 'register': 1, 'determined': 1, 'based': 1, 'specifically': 1, 'determines': 1, 'let': 1, 'smallest': 1, '/': 1, 'sum': 1, 'example': 1, 'suppose': 1, '6': 1, '4': 1, '3': 1, 'determine': 1, 'pays': 1, 'k': 1, 'written': 1, 'entering': 1, 'unfortunately': 1, 'slow': 1, 'takes': 1, 'seconds': 1, 'enter': 1, 'help': 1, 'writing': 1, 'calculates': 1, 'having': 1, 'wait': 1, 'long': 1, 'number': 1, 'shopping': 1, 'cart': 1, 'second': 1, 'integers': 1})\n",
      "Counter({',': 10, '.': 9, 'string': 7, '\\n\\n': 6, 'letters': 4, 'palindrome': 4, 'change': 4, 'alchemy': 3, 'lowercase': 3, 'single': 3, 'operation': 3, 'operations': 3, '\\n': 3, 'different': 2, 'characters': 2, 'si': 2, 'si+1': 2, 'equal': 2, 'ti': 2, 'ti+1': 2, 'minimum': 2, 'number': 2, 'needed': 2, 'input': 2, 'output': 2, 'problem': 2, 'need': 2, 'time': 2, 'finished': 1, 'day': 1, 'class': 1, '!': 1, 'homework': 1, 'given': 1, 'wish': 1, 'youâ€': 1, '™': 1, 'beginner': 1, 'powers': 1, 'limited': 1, 'choose': 1, 'exactly': 1, 'adjacent': 1, 'letter': 1, 'resulting': 1, 'long': 1, 'changed': 1, 'formally': 1, 's': 1, 'chose': 1, 'produce': 1, 't': 1, 'true': 1, '=': 1, 'permitted': 1, 'compute': 1, 'line': 1, 'contains': 1, '\\n ': 1, 'n': 1, '(': 1, '2<=': 1, 'n<=': 1, '100': 1, ')': 1, 'converting': 1, 'integer': 1, '#': 1, 'gpt': 1, 'follow': 1, 'rules': 1, 'initial': 1, 'answer': 1, 'correct': 1, 'order': 1, 'actually': 1, 'attempt': 1, 'incorrect': 1, 'rewrite': 1, 'program': 1})\n",
      "Counter({'.': 8, ',': 5, 'alex': 4, '\\n\\n': 4, 'barb': 3, 'game': 3, 'player': 3, 'cousins': 2, 'k': 2, 'cards': 2, 'm': 2, 'n': 2, '\\n': 2, 'single': 2, 'line': 2, '^': 2, '9': 2, 'waiting': 1, 'visit': 1, 'dinner': 1, 'tend': 1, 'involved': 1, 'sorts': 1, 'shenanigans': 1, 'decide': 1, 'pass': 1, 'time': 1, 'little': 1, 'card': 1, 'follows': 1, ':': 1, 'stack': 1, 'table': 1, 'turns': 1, 'taking': 1, 'beginning': 1, 'valid': 1, 'moves': 1, 'left': 1, 'loses': 1, 'given': 1, 'determine': 1, 'win': 1, 'provided': 1, 'play': 1, 'optimal': 1, 'strategy': 1, 'inputs': 1, 'input': 1, 'consists': 1, 'containing': 1, 'space': 1, '-': 1, 'separated': 1, 'integers': 1, '1<=k<=10': 1, '1<=m<=n<=10': 1, 'outputs': 1, 'output': 1, 'winning': 1})\n",
      "Counter({',': 23, '.': 12, 'alien': 9, 'number': 8, '\"': 7, 'system': 6, 'digits': 6, 'language': 5, '(': 4, ')': 4, '\\n\\n': 4, 'digit': 4, 'decimal': 3, 'numeral': 3, 'lowest': 3, 'numbers': 3, '\\n': 3, 'line': 3, 'case': 3, 'source': 3, 'composed': 2, 'written': 2, 'highest': 2, 'represented': 2, 'able': 2, 'arbitrary': 2, 'input': 2, 'cases': 2, 'test': 2, '#': 2, 'output': 2, 'represent': 1, '0123456789': 1, 'imagine': 1, 'discovered': 1, 'example': 1, 'of8': 1, 'f': 1, '8': 1, 'fo': 1, 'ff': 1, 'f8': 1, '8o': 1, '8f': 1, '88': 1, 'foo': 1, 'fof': 1, 'like': 1, 'work': 1, 'systems': 1, 'generally': 1, 'want': 1, 'convert': 1, 'thatâ€': 1, '™': 1, 's': 1, 'second': 1, 'gives': 1, 't<=100': 1, 't': 1, 'follow': 1, 'formatted': 1, 'alien_number': 1, 'source_language': 1, 'target_language': 1, 'list': 1, 'ordered': 1, 'value': 1, 'repeated': 1, 'representation': 1, 'present': 1, 'valued': 1, 'words': 1, 'leading': 1, 'zeroes': 1, '0': 1, '-': 1, '9': 1, 'uppercase': 1, 'lowercase': 1, 'letter': 1, 'following': 1, 'symbols': 1, '!': 1, '$': 1, '%': 1, '&': 1, \"'\": 1, '*': 1, '+': 1, '-./:;<>?@[\\\\]^_`{|}~': 1, 'assume': 1, 'positive': 1, '1000000000': 1, 'languages': 1, '94': 1, 'containing': 1, 'x': 1, ':': 1, 'followed': 1, 'translated': 1, 'target': 1})\n",
      "Counter({'.': 8, 'alloy': 7, ',': 7, '\\n\\n': 4, 'pelle': 3, 'new': 3, 'hardness': 3, 'kilogram': 3, 'decimal': 3, 'drill': 2, 'titanium': 2, '-': 2, 'aluminium': 2, 'magnesium': 2, ')': 2, 'sek': 2, 'money': 2, 'spend': 2, 'maximum': 2, 'input': 2, '\\n': 2, 'number': 2, 'output': 2, 'building': 1, 'advanced': 1, 'underground': 1, 'wants': 1, 'build': 1, 'mixed': 1, 'ways': 1, 'ratios': 1, 'x': 1, 'y': 1, 'z': 1, '(': 1, 'x+y+z=1': 1, 'gets': 1, 'xy': 1, 'price': 1, 'x+y': 1, 'fixed': 1, 'alloys': 1, 'drills': 1, '?': 1, 'line': 1, 'contains': 1, 'c(0<=c<2': 1, '1': 1, '6': 1, 'digits': 1, 'point': 1, 'â€': 1, '“': 1, 'single': 1, 'pelleâ€': 1, '™': 1, 's': 1, 'answer': 1, 'considered': 1, 'correct': 1, 'absolute': 1, 'error': 1, '10': 1, '^': 1, '-6': 1})\n",
      "Counter({'perfect': 11, '.': 10, ',': 10, 'p': 8, '(': 6, ')': 6, '\"': 6, 'integer': 4, 'number': 4, 'proper': 4, 'input': 4, 'divisors': 3, '\\n\\n': 3, 'value': 3, 'positive': 2, 'sum': 2, '28': 2, '2': 2, 'numbers': 2, '\\n': 2, 'output': 2, 'called': 1, 'exactly': 1, 'd': 1, 'divisor': 1, '1<=d<=p-1': 1, 'evenly': 1, 'divisible': 1, 'd.': 1, 'example': 1, '1': 1, '4': 1, '7': 1, '14': 1, 'add': 1, 'rare': 1, ';': 1, '50': 1, 'known': 1, '2017': 1, 'definition': 1, 'perfection': 1, 'little': 1, 'strict': 1, 'instead': 1, 'consider': 1, 'weâ€': 1, '™': 1, 'll': 1, 'differs': 1, 'consists': 1, 'sequence': 1, '500': 1, 'integers': 1, 'line': 1, 'range': 1, '10': 1, '^': 1, '9': 1, 'inclusive': 1, 'ends': 1, 'end': 1, 'file': 1, 'following': 1, ':': 1})\n",
      "Counter({'letters': 7, '.': 6, 'string': 4, 'alphabetical': 3, 's': 3, 'input': 3, 'lowercase': 2, '™': 2, ',': 2, 'number': 2, 'add': 2, '\\n\\n': 2, '\\n': 2, 'single': 2, 'contains': 2, 'output': 2, 'called': 1, 'deleted': 1, 'remain': 1, 'â€˜aâ€': 1, 'â€˜zâ€': 1, 'order': 1, 'given': 1, 'determine': 1, 'minimum': 1, 'consist': 1, 'test': 1, 'case': 1, 'note': 1, 'program': 1, 'run': 1, 'multiple': 1, 'times': 1, 'different': 1, 'inputs': 1, 'line': 1, '(': 1, '1<=s<=50': 1, ')': 1, 'integer': 1, 'smallest': 1, 'needed': 1})\n"
     ]
    }
   ],
   "source": [
    "all_problems = all_problems[:20]\n",
    "for problem in all_problems:\n",
    "        doc = nlp(problem)\n",
    "\n",
    "        # Extract keywords (nouns and verbs) excluding stopwords\n",
    "        keywords = [token.text.lower() for token in doc if token.text.lower() not in STOP_WORDS]\n",
    "\n",
    "        # Count the frequency of each keyword\n",
    "        keyword_freq = Counter(keywords)\n",
    "\n",
    "        # Print the top keywords and their frequencies\n",
    "        print(keyword_freq)"
   ]
  },
  {
   "cell_type": "code",
   "execution_count": null,
   "metadata": {},
   "outputs": [],
   "source": []
  }
 ],
 "metadata": {
  "kernelspec": {
   "display_name": "Kattis-1BYb5w23",
   "language": "python",
   "name": "python3"
  },
  "language_info": {
   "codemirror_mode": {
    "name": "ipython",
    "version": 3
   },
   "file_extension": ".py",
   "mimetype": "text/x-python",
   "name": "python",
   "nbconvert_exporter": "python",
   "pygments_lexer": "ipython3",
   "version": "3.10.11"
  }
 },
 "nbformat": 4,
 "nbformat_minor": 2
}
