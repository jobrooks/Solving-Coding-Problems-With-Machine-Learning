{
 "cells": [
  {
   "cell_type": "code",
   "execution_count": 13,
   "metadata": {},
   "outputs": [
    {
     "name": "stderr",
     "output_type": "stream",
     "text": [
      "c:\\Users\\Sajiv\\AppData\\Local\\Programs\\Python\\Python311\\Lib\\site-packages\\tqdm\\auto.py:21: TqdmWarning: IProgress not found. Please update jupyter and ipywidgets. See https://ipywidgets.readthedocs.io/en/stable/user_install.html\n",
      "  from .autonotebook import tqdm as notebook_tqdm\n"
     ]
    }
   ],
   "source": [
    "# Setup stuff\n",
    "\n",
    "import google.generativeai as genai\n",
    "\n",
    "# api key stuff\n",
    "\n",
    "import os\n",
    "genai.configure(api_key=os.getenv('GOOGLE_API_KEY'))"
   ]
  },
  {
   "cell_type": "code",
   "execution_count": 3,
   "metadata": {},
   "outputs": [],
   "source": [
    "# model\n",
    "# using gemini-pro\n",
    "# use gemini-pro-vision for text and images\n",
    "model = genai.GenerativeModel('gemini-pro')\n",
    "prompt = \"\"\n",
    "response = model.generate_content(\"What is Google?\")"
   ]
  },
  {
   "cell_type": "code",
   "execution_count": 4,
   "metadata": {},
   "outputs": [
    {
     "data": {
      "text/plain": [
       "'**Google LLC**\\n\\n**Overview:**\\n\\n* A multinational technology company specializing in Internet-related products and services.\\n* Founded in 1998 by Larry Page and Sergey Brin.\\n* Headquartered in Mountain View, California, United States.\\n\\n**Core Businesses:**\\n\\n**Search Engine:**\\n\\n* Google Search: Provides results for text, image, video, and other content on the web.\\n* Google Maps: Provides detailed maps and navigation tools.\\n* Google Earth: Delivers 3D representations of the Earth\\'s surface.\\n\\n**Advertising:**\\n\\n* Google Ads: An advertising platform for businesses to reach targeted audiences.\\n* Google AdSense: A program that allows website owners to earn revenue from displaying ads.\\n\\n**Cloud Computing:**\\n\\n* Google Cloud: Offers a wide range of cloud computing services, including storage, databases, and machine learning.\\n\\n**Software and Hardware:**\\n\\n* Android Operating System: Used in over 80% of smartphones worldwide.\\n* Chrome Browser: A fast and secure web browser.\\n* Pixel Smartphones: High-end Android smartphones manufactured by Google.\\n* Nest Smart Home Devices: Thermostats, cameras, and other connected home products.\\n\\n**Other Products and Services:**\\n\\n* Gmail: A web-based email service.\\n* YouTube: A video-sharing platform.\\n* Google Drive: A cloud storage service.\\n* Google Meet: A video conferencing platform.\\n* Google AI: Develops and deploys artificial intelligence technologies.\\n\\n**Mission Statement:**\\n\\n\"To organize the world\\'s information and make it universally accessible and useful.\"\\n\\n**Values:**\\n\\n* Focus on the user\\n* Bet on technology\\n* Iterate rapidly\\n* Embrace diversity\\n* Do the right thing'"
      ]
     },
     "execution_count": 4,
     "metadata": {},
     "output_type": "execute_result"
    }
   ],
   "source": [
    "response.text"
   ]
  },
  {
   "cell_type": "code",
   "execution_count": 2,
   "metadata": {},
   "outputs": [
    {
     "name": "stdout",
     "output_type": "stream",
     "text": [
      "Total subfolders: 3705\n"
     ]
    }
   ],
   "source": [
    "import os\n",
    "\n",
    "# Specify the path of the base directory\n",
    "base_dir = 'kattis2'\n",
    "\n",
    "# Get all entries in the directory\n",
    "entries = os.listdir(base_dir)\n",
    "\n",
    "# Filter out the entries to keep only directories\n",
    "subfolders = [entry for entry in entries if os.path.isdir(os.path.join(base_dir, entry))]\n",
    "\n",
    "# Count the subfolders\n",
    "subfolder_count = len(subfolders)\n",
    "print(f\"Total subfolders: {subfolder_count}\")"
   ]
  },
  {
   "cell_type": "code",
   "execution_count": 41,
   "metadata": {},
   "outputs": [],
   "source": [
    "def extract_code_to_file(code_block, filename='gemini.py'):\n",
    "    # Split the block by lines\n",
    "    lines = code_block.split('\\n')\n",
    "    # Remove the first and last lines which are the markdown code block markers\n",
    "    stripped_lines = lines[1:-1]\n",
    "    # Join the lines back into a single string\n",
    "    code = '\\n'.join(stripped_lines)\n",
    "    \n",
    "    # Write the extracted code to a file\n",
    "    with open(filename, 'w') as file:\n",
    "        file.write(code)\n",
    "    \n",
    "    print(f\"Code has been written to {filename}\")"
   ]
  },
  {
   "cell_type": "code",
   "execution_count": 44,
   "metadata": {},
   "outputs": [
    {
     "name": "stdout",
     "output_type": "stream",
     "text": [
      "10kindsofpeople\n",
      "Code has been written to kattis2/10kindsofpeople/gemini.py\n",
      "1dfroggereasy\n",
      "Code has been written to kattis2/1dfroggereasy/gemini.py\n",
      "1dfroggerhard\n",
      "Code has been written to kattis2/1dfroggerhard/gemini.py\n"
     ]
    }
   ],
   "source": [
    "# trying out on the first 3 files\n",
    "\n",
    "# model\n",
    "# using gemini-pro\n",
    "# use gemini-pro-vision for text and images\n",
    "model = genai.GenerativeModel('gemini-pro')\n",
    "\n",
    "responses = []\n",
    "\n",
    "for subfolder in subfolders[:3]:\n",
    "\n",
    "    print(subfolder)\n",
    "\n",
    "    file_path = 'kattis2/' + subfolder\n",
    "    # Open the file and read its contents into a string\n",
    "    with open(file_path + '/prompt', 'r', encoding='utf-8') as file:\n",
    "        prompt = file.read()\n",
    "\n",
    "    response = model.generate_content(\"Answer the following in Python\" + prompt)\n",
    "    responses.append(response.text)\n",
    "    extract_code_to_file(response.text, file_path + '/gemini.py')\n"
   ]
  },
  {
   "cell_type": "code",
   "execution_count": 4,
   "metadata": {},
   "outputs": [
    {
     "name": "stdout",
     "output_type": "stream",
     "text": [
      "10kindsofpeople\n",
      "1dfroggereasy\n",
      "1dfroggerhard\n",
      "1sforall\n",
      "246greaaat\n",
      "2naire\n",
      "3dprinter\n",
      "3sideddice\n",
      "4thought\n",
      "8queens\n",
      "99problems\n",
      "a1paper\n",
      "aaah\n",
      "abandonedanimal\n",
      "abcstring\n",
      "abinitio\n",
      "aboveaverage\n",
      "abridgedreading\n",
      "absolutelysymmetric\n",
      "abstractart\n",
      "abstractpainting\n",
      "absurdistan2\n",
      "absurdistan3\n",
      "acappellarecording\n",
      "acceptableseatingarrangements\n",
      "accessdenied\n",
      "accesspoints\n",
      "acearbiter\n",
      "acm\n",
      "acm2\n",
      "acomplexproblem\n",
      "ada\n",
      "adaloveslaces\n",
      "addemup\n",
      "addingtrouble\n",
      "addingwords\n",
      "additiongame\n",
      "addormultiply\n",
      "addtwonumbers\n",
      "adjoin\n",
      "administrativeproblems\n",
      "adolescentarchitecture\n",
      "adventurebegins\n",
      "adventuremoving4\n",
      "advertisingicpc\n",
      "agamemnonsodyssey\n",
      "agario\n",
      "agglomerator\n",
      "ahorseshoein\n",
      "aijeopardy\n",
      "airconditioned\n",
      "airlinehub\n",
      "airport\n",
      "airportcoffee\n",
      "airportlogistics\n",
      "airports\n",
      "airrally\n",
      "aladin\n",
      "alchemy101\n",
      "alchemy2\n",
      "alcohol\n",
      "alea\n",
      "alehouse\n",
      "alexandbarb\n",
      "alicedigital\n",
      "aliencodebreaking\n",
      "alienintegers\n",
      "alienmath\n",
      "alienmicrowave\n",
      "aliennumbers\n",
      "aliens\n",
      "allaboutthatbase\n",
      "allcolourings\n",
      "alldifferentdirections\n",
      "allergentesting\n",
      "allergy\n",
      "allfaxnoprinter\n",
      "allinthefamily\n",
      "alliswell\n",
      "allkill\n",
      "allpairspath\n",
      "almostbalanced\n",
      "almostperfect\n",
      "almostsorted\n",
      "almostsorted2\n",
      "almostunionfind\n",
      "alphabetanimals\n",
      "alphabetspam\n",
      "alternatingalgorithm\n",
      "altosinging\n",
      "altruisticamphibians\n",
      "amanda\n",
      "amazing\n",
      "amazingadventures\n",
      "amazingpuzzle\n",
      "ambush\n",
      "amiga\n",
      "amoebas\n",
      "amongourselves\n",
      "amsterdamdistance\n"
     ]
    }
   ],
   "source": [
    "# getting responses for first 100 prompts\n",
    "\n",
    "# Loop through the first 100 subfolders (or all if less than 100)\n",
    "for subfolder in subfolders[:100]\n",
    "    print(subfolder)\n",
    "\n",
    "\n",
    "    # Specify the path to the file\n",
    "    file_path = ''\n",
    "\n",
    "    # Open the file and read its contents into a string\n",
    "    with open(file_path, 'r', encoding='utf-8') as file:\n",
    "        file_contents = file.read()\n",
    "\n",
    "    # file_contents now holds the contents of the file as a single string\n",
    "    print(file_contents)\n",
    "\n",
    "    # Perform your operations here\n"
   ]
  }
 ],
 "metadata": {
  "kernelspec": {
   "display_name": "Python 3",
   "language": "python",
   "name": "python3"
  },
  "language_info": {
   "codemirror_mode": {
    "name": "ipython",
    "version": 3
   },
   "file_extension": ".py",
   "mimetype": "text/x-python",
   "name": "python",
   "nbconvert_exporter": "python",
   "pygments_lexer": "ipython3",
   "version": "3.11.4"
  }
 },
 "nbformat": 4,
 "nbformat_minor": 2
}
