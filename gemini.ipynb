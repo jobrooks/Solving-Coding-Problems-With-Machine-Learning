{
 "cells": [
  {
   "cell_type": "code",
   "execution_count": 13,
   "metadata": {},
   "outputs": [
    {
     "name": "stderr",
     "output_type": "stream",
     "text": [
      "c:\\Users\\Sajiv\\AppData\\Local\\Programs\\Python\\Python311\\Lib\\site-packages\\tqdm\\auto.py:21: TqdmWarning: IProgress not found. Please update jupyter and ipywidgets. See https://ipywidgets.readthedocs.io/en/stable/user_install.html\n",
      "  from .autonotebook import tqdm as notebook_tqdm\n"
     ]
    }
   ],
   "source": [
    "# Setup stuff\n",
    "\n",
    "import google.generativeai as genai\n",
    "\n",
    "# api key stuff\n",
    "\n",
    "import os\n",
    "genai.configure(api_key=os.getenv('GOOGLE_API_KEY'))"
   ]
  },
  {
   "cell_type": "code",
   "execution_count": 3,
   "metadata": {},
   "outputs": [],
   "source": [
    "# model\n",
    "# using gemini-pro\n",
    "# use gemini-pro-vision for text and images\n",
    "model = genai.GenerativeModel('gemini-pro')\n",
    "prompt = \"\"\n",
    "response = model.generate_content(\"What is Google?\")"
   ]
  },
  {
   "cell_type": "code",
   "execution_count": 4,
   "metadata": {},
   "outputs": [
    {
     "data": {
      "text/plain": [
       "'**Google LLC**\\n\\n**Overview:**\\n\\n* A multinational technology company specializing in Internet-related products and services.\\n* Founded in 1998 by Larry Page and Sergey Brin.\\n* Headquartered in Mountain View, California, United States.\\n\\n**Core Businesses:**\\n\\n**Search Engine:**\\n\\n* Google Search: Provides results for text, image, video, and other content on the web.\\n* Google Maps: Provides detailed maps and navigation tools.\\n* Google Earth: Delivers 3D representations of the Earth\\'s surface.\\n\\n**Advertising:**\\n\\n* Google Ads: An advertising platform for businesses to reach targeted audiences.\\n* Google AdSense: A program that allows website owners to earn revenue from displaying ads.\\n\\n**Cloud Computing:**\\n\\n* Google Cloud: Offers a wide range of cloud computing services, including storage, databases, and machine learning.\\n\\n**Software and Hardware:**\\n\\n* Android Operating System: Used in over 80% of smartphones worldwide.\\n* Chrome Browser: A fast and secure web browser.\\n* Pixel Smartphones: High-end Android smartphones manufactured by Google.\\n* Nest Smart Home Devices: Thermostats, cameras, and other connected home products.\\n\\n**Other Products and Services:**\\n\\n* Gmail: A web-based email service.\\n* YouTube: A video-sharing platform.\\n* Google Drive: A cloud storage service.\\n* Google Meet: A video conferencing platform.\\n* Google AI: Develops and deploys artificial intelligence technologies.\\n\\n**Mission Statement:**\\n\\n\"To organize the world\\'s information and make it universally accessible and useful.\"\\n\\n**Values:**\\n\\n* Focus on the user\\n* Bet on technology\\n* Iterate rapidly\\n* Embrace diversity\\n* Do the right thing'"
      ]
     },
     "execution_count": 4,
     "metadata": {},
     "output_type": "execute_result"
    }
   ],
   "source": [
    "response.text"
   ]
  },
  {
   "cell_type": "code",
   "execution_count": 2,
   "metadata": {},
   "outputs": [
    {
     "name": "stdout",
     "output_type": "stream",
     "text": [
      "Total subfolders: 3705\n"
     ]
    }
   ],
   "source": [
    "import os\n",
    "\n",
    "# Specify the path of the base directory\n",
    "base_dir = 'kattis2'\n",
    "\n",
    "# Get all entries in the directory\n",
    "entries = os.listdir(base_dir)\n",
    "\n",
    "# Filter out the entries to keep only directories\n",
    "subfolders = [entry for entry in entries if os.path.isdir(os.path.join(base_dir, entry))]\n",
    "\n",
    "# Count the subfolders\n",
    "subfolder_count = len(subfolders)\n",
    "print(f\"Total subfolders: {subfolder_count}\")"
   ]
  },
  {
   "cell_type": "code",
   "execution_count": 46,
   "metadata": {},
   "outputs": [],
   "source": [
    "def extract_code_to_file(code_block, filename='gemini.py'):\n",
    "    # Split the block by lines\n",
    "    lines = code_block.split('\\n')\n",
    "    # Remove the first and last lines which are the markdown code block markers\n",
    "    stripped_lines = lines[1:-1]\n",
    "    # Join the lines back into a single string\n",
    "    code = '\\n'.join(stripped_lines)\n",
    "    \n",
    "    # Write the extracted code to a file\n",
    "    with open(filename, 'w', encoding='utf-8') as file:\n",
    "        file.write(code)\n",
    "    \n",
    "    print(f\"Code has been written to {filename}\")"
   ]
  },
  {
   "cell_type": "code",
   "execution_count": 44,
   "metadata": {},
   "outputs": [
    {
     "name": "stdout",
     "output_type": "stream",
     "text": [
      "10kindsofpeople\n",
      "Code has been written to kattis2/10kindsofpeople/gemini.py\n",
      "1dfroggereasy\n",
      "Code has been written to kattis2/1dfroggereasy/gemini.py\n",
      "1dfroggerhard\n",
      "Code has been written to kattis2/1dfroggerhard/gemini.py\n"
     ]
    }
   ],
   "source": [
    "# trying out on the first 3 files\n",
    "\n",
    "# model\n",
    "# using gemini-pro\n",
    "# use gemini-pro-vision for text and images\n",
    "model = genai.GenerativeModel('gemini-pro')\n",
    "\n",
    "responses = []\n",
    "\n",
    "for subfolder in subfolders[:3]:\n",
    "\n",
    "    print(subfolder)\n",
    "\n",
    "    file_path = 'kattis2/' + subfolder\n",
    "    # Open the file and read its contents into a string\n",
    "    with open(file_path + '/prompt', 'r', encoding='utf-8') as file:\n",
    "        prompt = file.read()\n",
    "\n",
    "    response = model.generate_content(\"Answer the following in Python\" + prompt)\n",
    "    responses.append(response.text)\n",
    "    extract_code_to_file(response.text, file_path + '/gemini.py')\n"
   ]
  },
  {
   "cell_type": "code",
   "execution_count": 45,
   "metadata": {},
   "outputs": [
    {
     "name": "stdout",
     "output_type": "stream",
     "text": [
      "246greaaat\n",
      "Code has been written to kattis2/246greaaat/gemini.py\n",
      "2naire\n",
      "Code has been written to kattis2/2naire/gemini.py\n",
      "3dprinter\n",
      "Code has been written to kattis2/3dprinter/gemini.py\n",
      "3sideddice\n",
      "Code has been written to kattis2/3sideddice/gemini.py\n",
      "4thought\n",
      "Code has been written to kattis2/4thought/gemini.py\n",
      "8queens\n",
      "Code has been written to kattis2/8queens/gemini.py\n",
      "99problems\n",
      "Code has been written to kattis2/99problems/gemini.py\n",
      "a1paper\n",
      "Code has been written to kattis2/a1paper/gemini.py\n",
      "aaah\n",
      "Code has been written to kattis2/aaah/gemini.py\n",
      "abandonedanimal\n",
      "Code has been written to kattis2/abandonedanimal/gemini.py\n",
      "abcstring\n",
      "Code has been written to kattis2/abcstring/gemini.py\n",
      "abinitio\n",
      "Code has been written to kattis2/abinitio/gemini.py\n",
      "aboveaverage\n",
      "Code has been written to kattis2/aboveaverage/gemini.py\n",
      "abridgedreading\n",
      "Code has been written to kattis2/abridgedreading/gemini.py\n",
      "absolutelysymmetric\n",
      "Code has been written to kattis2/absolutelysymmetric/gemini.py\n",
      "abstractart\n",
      "Code has been written to kattis2/abstractart/gemini.py\n",
      "abstractpainting\n",
      "Code has been written to kattis2/abstractpainting/gemini.py\n",
      "absurdistan2\n",
      "Code has been written to kattis2/absurdistan2/gemini.py\n",
      "absurdistan3\n",
      "Code has been written to kattis2/absurdistan3/gemini.py\n",
      "acappellarecording\n",
      "Code has been written to kattis2/acappellarecording/gemini.py\n",
      "acceptableseatingarrangements\n",
      "Code has been written to kattis2/acceptableseatingarrangements/gemini.py\n",
      "accessdenied\n",
      "Code has been written to kattis2/accessdenied/gemini.py\n",
      "accesspoints\n",
      "Code has been written to kattis2/accesspoints/gemini.py\n",
      "acearbiter\n",
      "Code has been written to kattis2/acearbiter/gemini.py\n",
      "acm\n",
      "Code has been written to kattis2/acm/gemini.py\n",
      "acm2\n",
      "Code has been written to kattis2/acm2/gemini.py\n",
      "acomplexproblem\n",
      "Code has been written to kattis2/acomplexproblem/gemini.py\n",
      "ada\n",
      "Code has been written to kattis2/ada/gemini.py\n",
      "adaloveslaces\n",
      "Code has been written to kattis2/adaloveslaces/gemini.py\n",
      "addemup\n",
      "Code has been written to kattis2/addemup/gemini.py\n",
      "addingtrouble\n",
      "Code has been written to kattis2/addingtrouble/gemini.py\n",
      "addingwords\n",
      "Code has been written to kattis2/addingwords/gemini.py\n",
      "additiongame\n",
      "Code has been written to kattis2/additiongame/gemini.py\n",
      "addormultiply\n",
      "Code has been written to kattis2/addormultiply/gemini.py\n",
      "addtwonumbers\n",
      "Code has been written to kattis2/addtwonumbers/gemini.py\n",
      "adjoin\n",
      "Code has been written to kattis2/adjoin/gemini.py\n",
      "administrativeproblems\n",
      "Code has been written to kattis2/administrativeproblems/gemini.py\n",
      "adolescentarchitecture\n",
      "Code has been written to kattis2/adolescentarchitecture/gemini.py\n",
      "adventurebegins\n",
      "Code has been written to kattis2/adventurebegins/gemini.py\n",
      "adventuremoving4\n",
      "Code has been written to kattis2/adventuremoving4/gemini.py\n",
      "advertisingicpc\n",
      "Code has been written to kattis2/advertisingicpc/gemini.py\n",
      "agamemnonsodyssey\n",
      "Code has been written to kattis2/agamemnonsodyssey/gemini.py\n",
      "agario\n",
      "Code has been written to kattis2/agario/gemini.py\n",
      "agglomerator\n",
      "Code has been written to kattis2/agglomerator/gemini.py\n",
      "ahorseshoein\n",
      "Code has been written to kattis2/ahorseshoein/gemini.py\n",
      "aijeopardy\n",
      "Code has been written to kattis2/aijeopardy/gemini.py\n",
      "airconditioned\n",
      "Code has been written to kattis2/airconditioned/gemini.py\n",
      "airlinehub\n",
      "Code has been written to kattis2/airlinehub/gemini.py\n",
      "airport\n",
      "Code has been written to kattis2/airport/gemini.py\n",
      "airportcoffee\n",
      "Code has been written to kattis2/airportcoffee/gemini.py\n",
      "airportlogistics\n",
      "Code has been written to kattis2/airportlogistics/gemini.py\n",
      "airports\n",
      "Code has been written to kattis2/airports/gemini.py\n",
      "airrally\n"
     ]
    },
    {
     "ename": "UnicodeEncodeError",
     "evalue": "'charmap' codec can't encode characters in position 217-219: character maps to <undefined>",
     "output_type": "error",
     "traceback": [
      "\u001b[1;31m---------------------------------------------------------------------------\u001b[0m",
      "\u001b[1;31mUnicodeEncodeError\u001b[0m                        Traceback (most recent call last)",
      "Cell \u001b[1;32mIn[45], line 21\u001b[0m\n\u001b[0;32m     19\u001b[0m response \u001b[38;5;241m=\u001b[39m model\u001b[38;5;241m.\u001b[39mgenerate_content(\u001b[38;5;124m\"\u001b[39m\u001b[38;5;124mAnswer the following in Python\u001b[39m\u001b[38;5;124m\"\u001b[39m \u001b[38;5;241m+\u001b[39m prompt)\n\u001b[0;32m     20\u001b[0m responses\u001b[38;5;241m.\u001b[39mappend(response\u001b[38;5;241m.\u001b[39mtext)\n\u001b[1;32m---> 21\u001b[0m \u001b[43mextract_code_to_file\u001b[49m\u001b[43m(\u001b[49m\u001b[43mresponse\u001b[49m\u001b[38;5;241;43m.\u001b[39;49m\u001b[43mtext\u001b[49m\u001b[43m,\u001b[49m\u001b[43m \u001b[49m\u001b[43mfile_path\u001b[49m\u001b[43m \u001b[49m\u001b[38;5;241;43m+\u001b[39;49m\u001b[43m \u001b[49m\u001b[38;5;124;43m'\u001b[39;49m\u001b[38;5;124;43m/gemini.py\u001b[39;49m\u001b[38;5;124;43m'\u001b[39;49m\u001b[43m)\u001b[49m\n",
      "Cell \u001b[1;32mIn[41], line 11\u001b[0m, in \u001b[0;36mextract_code_to_file\u001b[1;34m(code_block, filename)\u001b[0m\n\u001b[0;32m      9\u001b[0m \u001b[38;5;66;03m# Write the extracted code to a file\u001b[39;00m\n\u001b[0;32m     10\u001b[0m \u001b[38;5;28;01mwith\u001b[39;00m \u001b[38;5;28mopen\u001b[39m(filename, \u001b[38;5;124m'\u001b[39m\u001b[38;5;124mw\u001b[39m\u001b[38;5;124m'\u001b[39m) \u001b[38;5;28;01mas\u001b[39;00m file:\n\u001b[1;32m---> 11\u001b[0m     file\u001b[38;5;241m.\u001b[39mwrite(code)\n\u001b[0;32m     13\u001b[0m \u001b[38;5;28mprint\u001b[39m(\u001b[38;5;124mf\u001b[39m\u001b[38;5;124m\"\u001b[39m\u001b[38;5;124mCode has been written to \u001b[39m\u001b[38;5;132;01m{\u001b[39;00mfilename\u001b[38;5;132;01m}\u001b[39;00m\u001b[38;5;124m\"\u001b[39m)\n",
      "File \u001b[1;32mc:\\Users\\Sajiv\\AppData\\Local\\Programs\\Python\\Python311\\Lib\\encodings\\cp1252.py:19\u001b[0m, in \u001b[0;36mIncrementalEncoder.encode\u001b[1;34m(self, input, final)\u001b[0m\n\u001b[0;32m     18\u001b[0m \u001b[38;5;28;01mdef\u001b[39;00m \u001b[38;5;21mencode\u001b[39m(\u001b[38;5;28mself\u001b[39m, \u001b[38;5;28minput\u001b[39m, final\u001b[38;5;241m=\u001b[39m\u001b[38;5;28;01mFalse\u001b[39;00m):\n\u001b[1;32m---> 19\u001b[0m     \u001b[38;5;28;01mreturn\u001b[39;00m codecs\u001b[38;5;241m.\u001b[39mcharmap_encode(\u001b[38;5;28minput\u001b[39m,\u001b[38;5;28mself\u001b[39m\u001b[38;5;241m.\u001b[39merrors,encoding_table)[\u001b[38;5;241m0\u001b[39m]\n",
      "\u001b[1;31mUnicodeEncodeError\u001b[0m: 'charmap' codec can't encode characters in position 217-219: character maps to <undefined>"
     ]
    }
   ],
   "source": [
    "# get gemini code for prompts 4-55 (failed at 56) airrally\n",
    "\n",
    "# model\n",
    "# using gemini-pro\n",
    "# use gemini-pro-vision for text and images\n",
    "model = genai.GenerativeModel('gemini-pro')\n",
    "\n",
    "responses = []\n",
    "\n",
    "for subfolder in subfolders[4:100]:\n",
    "\n",
    "    print(subfolder)\n",
    "\n",
    "    file_path = 'kattis2/' + subfolder\n",
    "    # Open the file and read its contents into a string\n",
    "    with open(file_path + '/prompt', 'r', encoding='utf-8') as file:\n",
    "        prompt = file.read()\n",
    "\n",
    "    response = model.generate_content(\"Answer the following in Python\" + prompt)\n",
    "    responses.append(response.text)\n",
    "    extract_code_to_file(response.text, file_path + '/gemini.py')\n"
   ]
  },
  {
   "cell_type": "code",
   "execution_count": 55,
   "metadata": {},
   "outputs": [
    {
     "data": {
      "text/plain": [
       "'airrally'"
      ]
     },
     "execution_count": 55,
     "metadata": {},
     "output_type": "execute_result"
    }
   ],
   "source": [
    "subfolders[56]"
   ]
  },
  {
   "cell_type": "code",
   "execution_count": 56,
   "metadata": {},
   "outputs": [
    {
     "name": "stdout",
     "output_type": "stream",
     "text": [
      "airrally\n",
      "Code has been written to kattis2/airrally/gemini.py\n",
      "aladin\n",
      "Code has been written to kattis2/aladin/gemini.py\n",
      "alchemy101\n",
      "Code has been written to kattis2/alchemy101/gemini.py\n",
      "alchemy2\n",
      "Code has been written to kattis2/alchemy2/gemini.py\n",
      "alcohol\n",
      "Code has been written to kattis2/alcohol/gemini.py\n",
      "alea\n",
      "Code has been written to kattis2/alea/gemini.py\n",
      "alehouse\n",
      "Code has been written to kattis2/alehouse/gemini.py\n",
      "alexandbarb\n",
      "Code has been written to kattis2/alexandbarb/gemini.py\n",
      "alicedigital\n",
      "Code has been written to kattis2/alicedigital/gemini.py\n",
      "aliencodebreaking\n",
      "Code has been written to kattis2/aliencodebreaking/gemini.py\n",
      "alienintegers\n",
      "Code has been written to kattis2/alienintegers/gemini.py\n",
      "alienmath\n",
      "Code has been written to kattis2/alienmath/gemini.py\n",
      "alienmicrowave\n",
      "Code has been written to kattis2/alienmicrowave/gemini.py\n",
      "aliennumbers\n",
      "Code has been written to kattis2/aliennumbers/gemini.py\n",
      "aliens\n",
      "Code has been written to kattis2/aliens/gemini.py\n",
      "allaboutthatbase\n",
      "Code has been written to kattis2/allaboutthatbase/gemini.py\n",
      "allcolourings\n",
      "Code has been written to kattis2/allcolourings/gemini.py\n",
      "alldifferentdirections\n",
      "Code has been written to kattis2/alldifferentdirections/gemini.py\n",
      "allergentesting\n",
      "Code has been written to kattis2/allergentesting/gemini.py\n",
      "allergy\n",
      "Code has been written to kattis2/allergy/gemini.py\n",
      "allfaxnoprinter\n",
      "Code has been written to kattis2/allfaxnoprinter/gemini.py\n",
      "allinthefamily\n",
      "Code has been written to kattis2/allinthefamily/gemini.py\n",
      "alliswell\n",
      "Code has been written to kattis2/alliswell/gemini.py\n",
      "allkill\n",
      "Code has been written to kattis2/allkill/gemini.py\n",
      "allpairspath\n",
      "Code has been written to kattis2/allpairspath/gemini.py\n",
      "almostbalanced\n",
      "Code has been written to kattis2/almostbalanced/gemini.py\n",
      "almostperfect\n",
      "Code has been written to kattis2/almostperfect/gemini.py\n",
      "almostsorted\n",
      "Code has been written to kattis2/almostsorted/gemini.py\n",
      "almostsorted2\n",
      "Code has been written to kattis2/almostsorted2/gemini.py\n",
      "almostunionfind\n",
      "Code has been written to kattis2/almostunionfind/gemini.py\n",
      "alphabetanimals\n",
      "Code has been written to kattis2/alphabetanimals/gemini.py\n",
      "alphabetspam\n",
      "Code has been written to kattis2/alphabetspam/gemini.py\n",
      "alternatingalgorithm\n",
      "Code has been written to kattis2/alternatingalgorithm/gemini.py\n",
      "altosinging\n",
      "Code has been written to kattis2/altosinging/gemini.py\n",
      "altruisticamphibians\n",
      "Code has been written to kattis2/altruisticamphibians/gemini.py\n",
      "amanda\n",
      "Code has been written to kattis2/amanda/gemini.py\n",
      "amazing\n",
      "Code has been written to kattis2/amazing/gemini.py\n",
      "amazingadventures\n",
      "Code has been written to kattis2/amazingadventures/gemini.py\n",
      "amazingpuzzle\n",
      "Code has been written to kattis2/amazingpuzzle/gemini.py\n",
      "ambush\n",
      "Code has been written to kattis2/ambush/gemini.py\n",
      "amiga\n",
      "Code has been written to kattis2/amiga/gemini.py\n",
      "amoebas\n",
      "Code has been written to kattis2/amoebas/gemini.py\n",
      "amongourselves\n",
      "Code has been written to kattis2/amongourselves/gemini.py\n",
      "amsterdamdistance\n",
      "Code has been written to kattis2/amsterdamdistance/gemini.py\n"
     ]
    }
   ],
   "source": [
    "# get gemini code for prompts 4-99 ended on amsterdamdistance\n",
    "\n",
    "# model\n",
    "# using gemini-pro\n",
    "# use gemini-pro-vision for text and images\n",
    "model = genai.GenerativeModel('gemini-pro')\n",
    "\n",
    "\n",
    "for subfolder in subfolders[56:100]:\n",
    "\n",
    "    print(subfolder)\n",
    "\n",
    "    file_path = 'kattis2/' + subfolder\n",
    "    # Open the file and read its contents into a string\n",
    "    with open(file_path + '/prompt', 'r', encoding='utf-8') as file:\n",
    "        prompt = file.read()\n",
    "\n",
    "    response = model.generate_content(\"Answer the following in Python\" + prompt)\n",
    "    extract_code_to_file(response.text, file_path + '/gemini.py')\n"
   ]
  },
  {
   "cell_type": "code",
   "execution_count": 58,
   "metadata": {},
   "outputs": [
    {
     "data": {
      "text/plain": [
       "'amsterdamdistance'"
      ]
     },
     "execution_count": 58,
     "metadata": {},
     "output_type": "execute_result"
    }
   ],
   "source": [
    "subfolders[99]"
   ]
  }
 ],
 "metadata": {
  "kernelspec": {
   "display_name": "Python 3",
   "language": "python",
   "name": "python3"
  },
  "language_info": {
   "codemirror_mode": {
    "name": "ipython",
    "version": 3
   },
   "file_extension": ".py",
   "mimetype": "text/x-python",
   "name": "python",
   "nbconvert_exporter": "python",
   "pygments_lexer": "ipython3",
   "version": "3.11.4"
  }
 },
 "nbformat": 4,
 "nbformat_minor": 2
}
