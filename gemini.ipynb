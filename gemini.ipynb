{
 "cells": [
  {
   "cell_type": "code",
   "execution_count": 14,
   "metadata": {},
   "outputs": [
    {
     "name": "stderr",
     "output_type": "stream",
     "text": [
      "c:\\Users\\Sajiv\\AppData\\Local\\Programs\\Python\\Python311\\Lib\\site-packages\\tqdm\\auto.py:21: TqdmWarning: IProgress not found. Please update jupyter and ipywidgets. See https://ipywidgets.readthedocs.io/en/stable/user_install.html\n",
      "  from .autonotebook import tqdm as notebook_tqdm\n"
     ]
    }
   ],
   "source": [
    "# Setup stuff\n",
    "\n",
    "import google.generativeai as genai\n",
    "\n",
    "# api key stuff\n",
    "\n",
    "import os\n",
    "genai.configure(api_key=os.getenv('GOOGLE_API_KEY'))"
   ]
  },
  {
   "cell_type": "code",
   "execution_count": 3,
   "metadata": {},
   "outputs": [],
   "source": [
    "# model\n",
    "# using gemini-pro\n",
    "# use gemini-pro-vision for text and images\n",
    "model = genai.GenerativeModel('gemini-pro')\n",
    "prompt = \"\"\n",
    "response = model.generate_content(\"What is Google?\")"
   ]
  },
  {
   "cell_type": "code",
   "execution_count": 4,
   "metadata": {},
   "outputs": [
    {
     "data": {
      "text/plain": [
       "'**Google LLC**\\n\\n**Overview:**\\n\\n* A multinational technology company specializing in Internet-related products and services.\\n* Founded in 1998 by Larry Page and Sergey Brin.\\n* Headquartered in Mountain View, California, United States.\\n\\n**Core Businesses:**\\n\\n**Search Engine:**\\n\\n* Google Search: Provides results for text, image, video, and other content on the web.\\n* Google Maps: Provides detailed maps and navigation tools.\\n* Google Earth: Delivers 3D representations of the Earth\\'s surface.\\n\\n**Advertising:**\\n\\n* Google Ads: An advertising platform for businesses to reach targeted audiences.\\n* Google AdSense: A program that allows website owners to earn revenue from displaying ads.\\n\\n**Cloud Computing:**\\n\\n* Google Cloud: Offers a wide range of cloud computing services, including storage, databases, and machine learning.\\n\\n**Software and Hardware:**\\n\\n* Android Operating System: Used in over 80% of smartphones worldwide.\\n* Chrome Browser: A fast and secure web browser.\\n* Pixel Smartphones: High-end Android smartphones manufactured by Google.\\n* Nest Smart Home Devices: Thermostats, cameras, and other connected home products.\\n\\n**Other Products and Services:**\\n\\n* Gmail: A web-based email service.\\n* YouTube: A video-sharing platform.\\n* Google Drive: A cloud storage service.\\n* Google Meet: A video conferencing platform.\\n* Google AI: Develops and deploys artificial intelligence technologies.\\n\\n**Mission Statement:**\\n\\n\"To organize the world\\'s information and make it universally accessible and useful.\"\\n\\n**Values:**\\n\\n* Focus on the user\\n* Bet on technology\\n* Iterate rapidly\\n* Embrace diversity\\n* Do the right thing'"
      ]
     },
     "execution_count": 4,
     "metadata": {},
     "output_type": "execute_result"
    }
   ],
   "source": [
    "response.text"
   ]
  },
  {
   "cell_type": "code",
   "execution_count": 15,
   "metadata": {},
   "outputs": [
    {
     "name": "stdout",
     "output_type": "stream",
     "text": [
      "Total subfolders: 3705\n"
     ]
    }
   ],
   "source": [
    "import os\n",
    "\n",
    "# Specify the path of the base directory\n",
    "base_dir = 'kattis2'\n",
    "\n",
    "# Get all entries in the directory\n",
    "entries = os.listdir(base_dir)\n",
    "\n",
    "# Filter out the entries to keep only directories\n",
    "subfolders = [entry for entry in entries if os.path.isdir(os.path.join(base_dir, entry))]\n",
    "\n",
    "# Count the subfolders\n",
    "subfolder_count = len(subfolders)\n",
    "print(f\"Total subfolders: {subfolder_count}\")"
   ]
  },
  {
   "cell_type": "code",
   "execution_count": 4,
   "metadata": {},
   "outputs": [],
   "source": [
    "def extract_code_to_file(code_block, filename='gemini.py'):\n",
    "    # Split the block by lines\n",
    "    lines = code_block.split('\\n')\n",
    "    # Remove the first and last lines which are the markdown code block markers\n",
    "    stripped_lines = lines[1:-1]\n",
    "    # Join the lines back into a single string\n",
    "    code = '\\n'.join(stripped_lines)\n",
    "    \n",
    "    # Write the extracted code to a file\n",
    "    with open(filename, 'w', encoding='utf-8') as file:\n",
    "        file.write(code)\n",
    "    \n",
    "    print(f\"Code has been written to {filename}\")"
   ]
  },
  {
   "cell_type": "code",
   "execution_count": 5,
   "metadata": {},
   "outputs": [
    {
     "name": "stdout",
     "output_type": "stream",
     "text": [
      "10kindsofpeople\n",
      "Code has been written to kattis2/10kindsofpeople/gemini.py\n",
      "1dfroggereasy\n",
      "Code has been written to kattis2/1dfroggereasy/gemini.py\n",
      "1dfroggerhard\n",
      "Code has been written to kattis2/1dfroggerhard/gemini.py\n"
     ]
    }
   ],
   "source": [
    "# trying out on the first 3 files\n",
    "\n",
    "# model\n",
    "# using gemini-pro\n",
    "# use gemini-pro-vision for text and images\n",
    "model = genai.GenerativeModel('gemini-pro')\n",
    "\n",
    "responses = []\n",
    "\n",
    "for subfolder in subfolders[:3]:\n",
    "\n",
    "    print(subfolder)\n",
    "\n",
    "    file_path = 'kattis2/' + subfolder\n",
    "    # Open the file and read its contents into a string\n",
    "    with open(file_path + '/prompt', 'r', encoding='utf-8') as file:\n",
    "        prompt = file.read()\n",
    "\n",
    "    response = model.generate_content(\"Provide the python code for the following prompt. Do not give sample data. Assume that data will be given as user input \" + prompt)\n",
    "    responses.append(response.text)\n",
    "    extract_code_to_file(response.text, file_path + '/gemini.py')\n"
   ]
  },
  {
   "cell_type": "code",
   "execution_count": 16,
   "metadata": {},
   "outputs": [
    {
     "name": "stdout",
     "output_type": "stream",
     "text": [
      "Candidate username(s): ['sajiv']\n",
      "Successfully logged in to Kattis!\n"
     ]
    }
   ],
   "source": [
    "from autokattis import Kattis\n",
    "import pandas as pd\n",
    "import os\n",
    "\n",
    "user = os.getenv('KATTIS_USER')\n",
    "pwd = os.getenv('KATTIS_PASS')\n",
    "kt = Kattis(user, pwd)"
   ]
  },
  {
   "cell_type": "code",
   "execution_count": 18,
   "metadata": {},
   "outputs": [
    {
     "name": "stdout",
     "output_type": "stream",
     "text": [
      "10kindsofpeople\n",
      "4.6\n",
      "Error 1/25\n",
      "1dfroggereasy\n",
      "3.5\n",
      "Error 1/38\n",
      "1dfroggerhard\n",
      "8.6\n",
      "Error 1/12\n"
     ]
    }
   ],
   "source": [
    "# grade first three problems and save string with line needed\n",
    "import os\n",
    "import subprocess\n",
    "\n",
    "for subfolder in subfolders[:3]:\n",
    "\n",
    "    print(subfolder)\n",
    "\n",
    "    # get difficulty for problem\n",
    "    difficulty = kt.problem(subfolder)[0]['difficulty']\n",
    "    appString = str(difficulty)\n",
    "\n",
    "    # get grade, parse output\n",
    "    grade = grade_report(subfolder)\n",
    "    appString = appString + parse_grade(grade)\n",
    "    print(appString)\n",
    "\n",
    "    # append string to top of file\n",
    "\n",
    "\n",
    "    "
   ]
  },
  {
   "cell_type": "code",
   "execution_count": 11,
   "metadata": {},
   "outputs": [],
   "source": [
    "def grade_report(problem):\n",
    "\n",
    "    import subprocess\n",
    "\n",
    "    file_path = os.path.join('kattis2', problem, 'gemini.py')\n",
    "    # Define the command to run the Kattis tool\n",
    "    command = ['kattis', file_path, '-p', problem]\n",
    "\n",
    "    # Run the command and capture the output\n",
    "    process = subprocess.Popen(command, stdin=subprocess.PIPE, stdout=subprocess.PIPE, stderr=subprocess.PIPE, text=True, shell=True)\n",
    "\n",
    "    # Send 'y' to the process\n",
    "    process.communicate(input='y\\n')\n",
    "\n",
    "    # Optionally, you can capture the output\n",
    "    output, error = process.communicate()\n",
    "\n",
    "    return output"
   ]
  },
  {
   "cell_type": "code",
   "execution_count": 12,
   "metadata": {},
   "outputs": [],
   "source": [
    "import re\n",
    "\n",
    "def parse_grade(output: str) -> str:\n",
    "    # Extract the status and number of test cases passed\n",
    "    test_case_pattern = re.search(r'Test cases:.*\\[(.*?)\\].* (\\d+) / (\\d+)', output)\n",
    "    if test_case_pattern:\n",
    "        passed_tests = int(test_case_pattern.group(2))\n",
    "        total_tests = int(test_case_pattern.group(3))\n",
    "        test_status = output.splitlines()[-1].split(' ')[0]\n",
    "        \n",
    "        # Determine the result message\n",
    "        if test_status == \"Accepted\":\n",
    "            result = \"right answer\"\n",
    "        elif test_status == \"Wrong\":\n",
    "            result = \"wrong answer\"\n",
    "        else:\n",
    "            result = \"Error\"\n",
    "        \n",
    "        # Return formatted result string\n",
    "        return f\"{result} {passed_tests}/{total_tests}\"\n",
    "    else:\n",
    "        return \"Error 0/0\""
   ]
  },
  {
   "cell_type": "code",
   "execution_count": null,
   "metadata": {},
   "outputs": [],
   "source": []
  },
  {
   "cell_type": "code",
   "execution_count": 56,
   "metadata": {},
   "outputs": [
    {
     "name": "stdout",
     "output_type": "stream",
     "text": [
      "airrally\n",
      "Code has been written to kattis2/airrally/gemini.py\n",
      "aladin\n",
      "Code has been written to kattis2/aladin/gemini.py\n",
      "alchemy101\n",
      "Code has been written to kattis2/alchemy101/gemini.py\n",
      "alchemy2\n",
      "Code has been written to kattis2/alchemy2/gemini.py\n",
      "alcohol\n",
      "Code has been written to kattis2/alcohol/gemini.py\n",
      "alea\n",
      "Code has been written to kattis2/alea/gemini.py\n",
      "alehouse\n",
      "Code has been written to kattis2/alehouse/gemini.py\n",
      "alexandbarb\n",
      "Code has been written to kattis2/alexandbarb/gemini.py\n",
      "alicedigital\n",
      "Code has been written to kattis2/alicedigital/gemini.py\n",
      "aliencodebreaking\n",
      "Code has been written to kattis2/aliencodebreaking/gemini.py\n",
      "alienintegers\n",
      "Code has been written to kattis2/alienintegers/gemini.py\n",
      "alienmath\n",
      "Code has been written to kattis2/alienmath/gemini.py\n",
      "alienmicrowave\n",
      "Code has been written to kattis2/alienmicrowave/gemini.py\n",
      "aliennumbers\n",
      "Code has been written to kattis2/aliennumbers/gemini.py\n",
      "aliens\n",
      "Code has been written to kattis2/aliens/gemini.py\n",
      "allaboutthatbase\n",
      "Code has been written to kattis2/allaboutthatbase/gemini.py\n",
      "allcolourings\n",
      "Code has been written to kattis2/allcolourings/gemini.py\n",
      "alldifferentdirections\n",
      "Code has been written to kattis2/alldifferentdirections/gemini.py\n",
      "allergentesting\n",
      "Code has been written to kattis2/allergentesting/gemini.py\n",
      "allergy\n",
      "Code has been written to kattis2/allergy/gemini.py\n",
      "allfaxnoprinter\n",
      "Code has been written to kattis2/allfaxnoprinter/gemini.py\n",
      "allinthefamily\n",
      "Code has been written to kattis2/allinthefamily/gemini.py\n",
      "alliswell\n",
      "Code has been written to kattis2/alliswell/gemini.py\n",
      "allkill\n",
      "Code has been written to kattis2/allkill/gemini.py\n",
      "allpairspath\n",
      "Code has been written to kattis2/allpairspath/gemini.py\n",
      "almostbalanced\n",
      "Code has been written to kattis2/almostbalanced/gemini.py\n",
      "almostperfect\n",
      "Code has been written to kattis2/almostperfect/gemini.py\n",
      "almostsorted\n",
      "Code has been written to kattis2/almostsorted/gemini.py\n",
      "almostsorted2\n",
      "Code has been written to kattis2/almostsorted2/gemini.py\n",
      "almostunionfind\n",
      "Code has been written to kattis2/almostunionfind/gemini.py\n",
      "alphabetanimals\n",
      "Code has been written to kattis2/alphabetanimals/gemini.py\n",
      "alphabetspam\n",
      "Code has been written to kattis2/alphabetspam/gemini.py\n",
      "alternatingalgorithm\n",
      "Code has been written to kattis2/alternatingalgorithm/gemini.py\n",
      "altosinging\n",
      "Code has been written to kattis2/altosinging/gemini.py\n",
      "altruisticamphibians\n",
      "Code has been written to kattis2/altruisticamphibians/gemini.py\n",
      "amanda\n",
      "Code has been written to kattis2/amanda/gemini.py\n",
      "amazing\n",
      "Code has been written to kattis2/amazing/gemini.py\n",
      "amazingadventures\n",
      "Code has been written to kattis2/amazingadventures/gemini.py\n",
      "amazingpuzzle\n",
      "Code has been written to kattis2/amazingpuzzle/gemini.py\n",
      "ambush\n",
      "Code has been written to kattis2/ambush/gemini.py\n",
      "amiga\n",
      "Code has been written to kattis2/amiga/gemini.py\n",
      "amoebas\n",
      "Code has been written to kattis2/amoebas/gemini.py\n",
      "amongourselves\n",
      "Code has been written to kattis2/amongourselves/gemini.py\n",
      "amsterdamdistance\n",
      "Code has been written to kattis2/amsterdamdistance/gemini.py\n"
     ]
    }
   ],
   "source": [
    "# get gemini code for prompts 4-99 ended on amsterdamdistance\n",
    "\n",
    "# model\n",
    "# using gemini-pro\n",
    "# use gemini-pro-vision for text and images\n",
    "model = genai.GenerativeModel('gemini-pro')\n",
    "\n",
    "\n",
    "for subfolder in subfolders[4:100]:\n",
    "\n",
    "    print(subfolder)\n",
    "\n",
    "    file_path = 'kattis2/' + subfolder\n",
    "    # Open the file and read its contents into a string\n",
    "    with open(file_path + '/prompt', 'r', encoding='utf-8') as file:\n",
    "        prompt = file.read()\n",
    "\n",
    "    response = model.generate_content(\"Provide the python code for the following prompt. Do not give sample data. Assume that data will be given as user input \" + prompt)\n",
    "    extract_code_to_file(response.text, file_path + '/gemini.py')\n"
   ]
  },
  {
   "cell_type": "code",
   "execution_count": 58,
   "metadata": {},
   "outputs": [
    {
     "data": {
      "text/plain": [
       "'amsterdamdistance'"
      ]
     },
     "execution_count": 58,
     "metadata": {},
     "output_type": "execute_result"
    }
   ],
   "source": [
    "subfolders[99]"
   ]
  },
  {
   "cell_type": "code",
   "execution_count": null,
   "metadata": {},
   "outputs": [],
   "source": [
    "problem = \"Write the code to add two numbers in python\""
   ]
  }
 ],
 "metadata": {
  "kernelspec": {
   "display_name": "Python 3",
   "language": "python",
   "name": "python3"
  },
  "language_info": {
   "codemirror_mode": {
    "name": "ipython",
    "version": 3
   },
   "file_extension": ".py",
   "mimetype": "text/x-python",
   "name": "python",
   "nbconvert_exporter": "python",
   "pygments_lexer": "ipython3",
   "version": "3.11.4"
  }
 },
 "nbformat": 4,
 "nbformat_minor": 2
}
