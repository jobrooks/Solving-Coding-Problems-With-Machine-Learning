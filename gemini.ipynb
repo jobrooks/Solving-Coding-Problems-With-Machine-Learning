{
 "cells": [
  {
   "cell_type": "code",
   "execution_count": 2,
   "metadata": {},
   "outputs": [
    {
     "name": "stderr",
     "output_type": "stream",
     "text": [
      "c:\\Users\\Sajiv\\AppData\\Local\\Programs\\Python\\Python311\\Lib\\site-packages\\tqdm\\auto.py:21: TqdmWarning: IProgress not found. Please update jupyter and ipywidgets. See https://ipywidgets.readthedocs.io/en/stable/user_install.html\n",
      "  from .autonotebook import tqdm as notebook_tqdm\n"
     ]
    }
   ],
   "source": [
    "# Setup stuff\n",
    "\n",
    "import google.generativeai as genai\n",
    "\n",
    "# api key stuff\n",
    "\n",
    "import os\n",
    "genai.configure(api_key=os.getenv('GOOGLE_API_KEY'))"
   ]
  },
  {
   "cell_type": "code",
   "execution_count": 3,
   "metadata": {},
   "outputs": [],
   "source": [
    "# model\n",
    "# using gemini-pro\n",
    "# use gemini-pro-vision for text and images\n",
    "model = genai.GenerativeModel('gemini-pro')\n",
    "prompt = \"\"\n",
    "response = model.generate_content(\"What is Google?\")"
   ]
  },
  {
   "cell_type": "code",
   "execution_count": 4,
   "metadata": {},
   "outputs": [
    {
     "data": {
      "text/plain": [
       "'**Google LLC**\\n\\n**Overview:**\\n\\n* A multinational technology company specializing in Internet-related products and services.\\n* Founded in 1998 by Larry Page and Sergey Brin.\\n* Headquartered in Mountain View, California, United States.\\n\\n**Core Businesses:**\\n\\n**Search Engine:**\\n\\n* Google Search: Provides results for text, image, video, and other content on the web.\\n* Google Maps: Provides detailed maps and navigation tools.\\n* Google Earth: Delivers 3D representations of the Earth\\'s surface.\\n\\n**Advertising:**\\n\\n* Google Ads: An advertising platform for businesses to reach targeted audiences.\\n* Google AdSense: A program that allows website owners to earn revenue from displaying ads.\\n\\n**Cloud Computing:**\\n\\n* Google Cloud: Offers a wide range of cloud computing services, including storage, databases, and machine learning.\\n\\n**Software and Hardware:**\\n\\n* Android Operating System: Used in over 80% of smartphones worldwide.\\n* Chrome Browser: A fast and secure web browser.\\n* Pixel Smartphones: High-end Android smartphones manufactured by Google.\\n* Nest Smart Home Devices: Thermostats, cameras, and other connected home products.\\n\\n**Other Products and Services:**\\n\\n* Gmail: A web-based email service.\\n* YouTube: A video-sharing platform.\\n* Google Drive: A cloud storage service.\\n* Google Meet: A video conferencing platform.\\n* Google AI: Develops and deploys artificial intelligence technologies.\\n\\n**Mission Statement:**\\n\\n\"To organize the world\\'s information and make it universally accessible and useful.\"\\n\\n**Values:**\\n\\n* Focus on the user\\n* Bet on technology\\n* Iterate rapidly\\n* Embrace diversity\\n* Do the right thing'"
      ]
     },
     "execution_count": 4,
     "metadata": {},
     "output_type": "execute_result"
    }
   ],
   "source": [
    "response.text"
   ]
  },
  {
   "cell_type": "code",
   "execution_count": null,
   "metadata": {},
   "outputs": [],
   "source": []
  }
 ],
 "metadata": {
  "kernelspec": {
   "display_name": "Python 3",
   "language": "python",
   "name": "python3"
  },
  "language_info": {
   "codemirror_mode": {
    "name": "ipython",
    "version": 3
   },
   "file_extension": ".py",
   "mimetype": "text/x-python",
   "name": "python",
   "nbconvert_exporter": "python",
   "pygments_lexer": "ipython3",
   "version": "3.11.4"
  }
 },
 "nbformat": 4,
 "nbformat_minor": 2
}
