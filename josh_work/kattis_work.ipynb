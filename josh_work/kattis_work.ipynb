{
 "cells": [
  {
   "cell_type": "code",
   "execution_count": null,
   "metadata": {},
   "outputs": [],
   "source": [
    "from autokattis import Kattis\n",
    "import pandas as pd\n",
    "import os"
   ]
  },
  {
   "cell_type": "code",
   "execution_count": null,
   "metadata": {},
   "outputs": [],
   "source": [
    "from autokattis import Kattis\n",
    "import pandas as pd\n",
    "import os\n",
    "\n",
    "user = os.getenv('KATTIS_USER')\n",
    "pwd = os.getenv('KATTIS_PASS')\n",
    "kt = Kattis(user, pwd)"
   ]
  },
  {
   "cell_type": "code",
   "execution_count": null,
   "metadata": {},
   "outputs": [],
   "source": []
  },
  {
   "cell_type": "code",
   "execution_count": null,
   "metadata": {},
   "outputs": [],
   "source": [
    "problem_df = kt.problems(*[True]*4).to_df()\n",
    "problem_df"
   ]
  },
  {
   "cell_type": "code",
   "execution_count": null,
   "metadata": {},
   "outputs": [],
   "source": [
    "trunc_problem_df = problem_df[['difficulty','name','link']]\n",
    "trunc_problem_df"
   ]
  },
  {
   "cell_type": "code",
   "execution_count": null,
   "metadata": {},
   "outputs": [],
   "source": [
    "# Setting the difficulty boundaries\n",
    "easy_min = 1.1\n",
    "easy_max = 2.7\n",
    "med_min = 2.8\n",
    "med_max = 5.4\n",
    "hard_min = 5.5\n",
    "hard_max = 9.8\n",
    "\n",
    "#Create dataframes with all the questions of each difficulty\n",
    "easy_problems = trunc_problem_df[(problem_df['difficulty'] >= easy_min) & (problem_df['difficulty'] <= easy_max)]\n",
    "med_problems = trunc_problem_df[(problem_df['difficulty'] >= med_min) & (problem_df['difficulty'] <= med_max)]\n",
    "hard_problems = trunc_problem_df[(problem_df['difficulty'] >= hard_min) & (problem_df['difficulty'] <= hard_max)]"
   ]
  },
  {
   "cell_type": "code",
   "execution_count": null,
   "metadata": {},
   "outputs": [],
   "source": [
    "display(len(easy_problems))\n",
    "display(len(med_problems))\n",
    "display(len(hard_problems))"
   ]
  },
  {
   "cell_type": "code",
   "execution_count": null,
   "metadata": {},
   "outputs": [],
   "source": [
    "easy_problems"
   ]
  },
  {
   "cell_type": "code",
   "execution_count": null,
   "metadata": {},
   "outputs": [],
   "source": [
    "#Randomly select 333 questions from each difficulty \n",
    "random_easy = easy_problems.sample(n=333)\n",
    "random_med = med_problems.sample(n=333)\n",
    "random_hard = hard_problems.sample(n=333)"
   ]
  },
  {
   "cell_type": "code",
   "execution_count": null,
   "metadata": {},
   "outputs": [],
   "source": [
    "#Creating csv file of the randomly selecting questions\n",
    "random_easy.to_csv('easy_problems.csv', index=False)\n",
    "random_med.to_csv('med_problems.csv', index=False)\n",
    "random_hard.to_csv('hard_problems.csv', index=False)"
   ]
  },
  {
   "cell_type": "code",
   "execution_count": null,
   "metadata": {},
   "outputs": [],
   "source": []
  }
 ],
 "metadata": {
  "kernelspec": {
   "display_name": "Python 3 (ipykernel)",
   "language": "python",
   "name": "python3"
  },
  "language_info": {
   "codemirror_mode": {
    "name": "ipython",
    "version": 3
   },
   "file_extension": ".py",
   "mimetype": "text/x-python",
   "name": "python",
   "nbconvert_exporter": "python",
   "pygments_lexer": "ipython3",
   "version": "3.11.4"
  }
 },
 "nbformat": 4,
 "nbformat_minor": 4
}
