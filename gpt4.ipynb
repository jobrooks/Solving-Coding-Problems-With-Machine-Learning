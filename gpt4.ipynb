{
 "cells": [
  {
   "cell_type": "code",
   "execution_count": 1,
   "metadata": {},
   "outputs": [],
   "source": [
    "import os\n",
    "from openai import OpenAI\n",
    "\n",
    "client = OpenAI(\n",
    "    # This is the default and can be omitted\n",
    "    api_key=os.getenv(\"OPENAI_API_KEY\"),\n",
    ")\n",
    "\n",
    "chat_completion = client.chat.completions.create(\n",
    "    messages=[\n",
    "        {\n",
    "            \"role\": \"user\",\n",
    "            \"content\": \"Say this is a test\",\n",
    "        }\n",
    "    ],\n",
    "    model=\"gpt-4\",\n",
    ")\n"
   ]
  },
  {
   "cell_type": "code",
   "execution_count": 2,
   "metadata": {},
   "outputs": [
    {
     "data": {
      "text/plain": [
       "ChatCompletion(id='chatcmpl-9Ly00d7coNZq96xVaddNkt1QjSFA2', choices=[Choice(finish_reason='stop', index=0, logprobs=None, message=ChatCompletionMessage(content='This is a test.', role='assistant', function_call=None, tool_calls=None))], created=1715022552, model='gpt-4-0613', object='chat.completion', system_fingerprint=None, usage=CompletionUsage(completion_tokens=5, prompt_tokens=12, total_tokens=17))"
      ]
     },
     "execution_count": 2,
     "metadata": {},
     "output_type": "execute_result"
    }
   ],
   "source": [
    "chat_completion"
   ]
  },
  {
   "cell_type": "code",
   "execution_count": null,
   "metadata": {},
   "outputs": [],
   "source": [
    "# rerun to update subfolders variables\n",
    "import os\n",
    "\n",
    "# Specify the path of the base directory\n",
    "base_dir = 'kattis2'\n",
    "\n",
    "# Get all entries in the directory\n",
    "entries = os.listdir(base_dir)\n",
    "\n",
    "# Filter out the entries to keep only directories\n",
    "subfolders = [entry for entry in entries if os.path.isdir(os.path.join(base_dir, entry))]\n",
    "\n",
    "# Count the subfolders\n",
    "subfolder_count = len(subfolders)\n",
    "print(f\"Total subfolders: {subfolder_count}\")"
   ]
  },
  {
   "cell_type": "code",
   "execution_count": null,
   "metadata": {},
   "outputs": [],
   "source": [
    "def extract_code_to_file(code_block, filename='gpt4.py'):\n",
    "    # Split the block by lines\n",
    "    lines = code_block.split('\\n')\n",
    "    # Remove the first and last lines which are the markdown code block markers\n",
    "    stripped_lines = lines[1:-1]\n",
    "    # Join the lines back into a single string\n",
    "    code = '\\n'.join(stripped_lines)\n",
    "    \n",
    "    # Write the extracted code to a file\n",
    "    with open(filename, 'w', encoding='utf-8') as file:\n",
    "        file.write(code)\n",
    "    \n",
    "    print(f\"Code has been written to {filename}\")"
   ]
  },
  {
   "cell_type": "code",
   "execution_count": null,
   "metadata": {},
   "outputs": [],
   "source": [
    "# trying out on the first 3 files\n",
    "\n",
    "# model\n",
    "# using gemini-pro\n",
    "# use gemini-pro-vision for text and images\n",
    "model = genai.GenerativeModel('gemini-pro')\n",
    "\n",
    "responses = []\n",
    "\n",
    "for subfolder in subfolders[:3]:\n",
    "\n",
    "    print(subfolder)\n",
    "\n",
    "    file_path = 'kattis2/' + subfolder\n",
    "    # Open the file and read its contents into a string\n",
    "    with open(file_path + '/prompt', 'r', encoding='utf-8') as file:\n",
    "        prompt = file.read()\n",
    "\n",
    "    response = model.generate_content(\"Provide the python code for the following prompt. Do not give sample data. Assume that data will be given as user input \" + prompt)\n",
    "    responses.append(response.text)\n",
    "    extract_code_to_file(response.text, file_path + '/gemini.py')"
   ]
  }
 ],
 "metadata": {
  "kernelspec": {
   "display_name": "Python 3",
   "language": "python",
   "name": "python3"
  },
  "language_info": {
   "codemirror_mode": {
    "name": "ipython",
    "version": 3
   },
   "file_extension": ".py",
   "mimetype": "text/x-python",
   "name": "python",
   "nbconvert_exporter": "python",
   "pygments_lexer": "ipython3",
   "version": "3.11.4"
  }
 },
 "nbformat": 4,
 "nbformat_minor": 2
}
