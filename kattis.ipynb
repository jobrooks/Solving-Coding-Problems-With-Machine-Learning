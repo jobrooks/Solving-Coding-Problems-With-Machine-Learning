{
 "cells": [
  {
   "cell_type": "code",
   "execution_count": 1,
   "metadata": {},
   "outputs": [
    {
     "name": "stdout",
     "output_type": "stream",
     "text": [
      "Candidate username(s): ['sajiv']\n",
      "Successfully logged in to Kattis!\n"
     ]
    }
   ],
   "source": [
    "from autokattis import Kattis\n",
    "import pandas as pd\n",
    "import os\n",
    "\n",
    "user = os.getenv('KATTIS_USER')\n",
    "pwd = os.getenv('KATTIS_PASS')\n",
    "kt = Kattis(user, pwd)"
   ]
  },
  {
   "cell_type": "code",
   "execution_count": 13,
   "metadata": {},
   "outputs": [],
   "source": [
    "def format_2048_text(text):\n",
    "  \"\"\"\n",
    "  This function formats a text string containing the description, sample inputs,\n",
    "  and outputs of the 2048 game into a more readable format.\n",
    "\n",
    "  Args:\n",
    "      text: The input text string.\n",
    "\n",
    "  Returns:\n",
    "      A formatted string with separated sections and proper indentation.\n",
    "  \"\"\"\n",
    "  sections = text.strip().split(\"\\n\\n\\n\")\n",
    "  formatted_text = \"\"\n",
    "  for section in sections:\n",
    "    lines = section.splitlines()\n",
    "    if not lines:\n",
    "      continue  # Skip empty sections\n",
    "    if lines[0].startswith(\"Sample\"):\n",
    "      formatted_text += f\"\\n{lines[0]}\\n\"\n",
    "      for line in lines[1:]:\n",
    "        formatted_text += f\"  {line.strip()}\\n\"  # Indent and remove extra whitespace\n",
    "    else:\n",
    "      # Remove extra indentation for non-sample sections\n",
    "      formatted_text += \"\\n\".join(line.strip() for line in lines) + \"\\n\\n\"\n",
    "  return formatted_text"
   ]
  },
  {
   "cell_type": "code",
   "execution_count": 14,
   "metadata": {},
   "outputs": [
    {
     "data": {
      "text/plain": [
       "'screenshot taken from\\nhttp://gabrielecirulli.github.io/2048/\\n\\n\\n2048 is a single-player puzzle game\\ncreated by Gabriele Cirulli1. It is played\\non a $4 \\\\times 4$ grid\\nthat contains integers $\\\\geq\\n2$ that are powers of 2. The player can use a keyboard\\narrow key (left/up/right/down) to move all the tiles\\nsimultaneously. Tiles slide as far as possible in the chosen\\ndirection until they are stopped by either another tile or the\\nedge of the grid. If two tiles of the same number collide while\\nmoving, they will merge into a tile with the total value of the\\ntwo tiles that collided. The resulting tile cannot merge with\\nanother tile again in the same move. Please observe this\\nmerging behavior carefully in all Sample Inputs and\\nOutputs.\\nInput\\nThe input is always a valid game state of a 2048 puzzle. The\\nfirst four lines of input, that each contains four integers,\\ndescribe the 16 integers in the $4 \\\\times 4$ grid of 2048 puzzle. The\\n$j$-th integer in the\\n$i$-th line denotes the\\ncontent of the cell located at the $i$-th row and the $j$-th cell. For this problem, all\\nintegers in the input will be either {0, 2, 4, 8, 16, 32, 64,\\n128, 256, 512, 1024}. Integer 0 means an empty cell.\\nThe fifth line of input contains an integer 0, 1, 2, or 3\\nthat denotes a left, up, right, or down move executed by the\\nplayer, respectively.\\nOutput\\nOutput four lines with four integers each. Two integers in a\\nline must be separated by a single space. This describes the\\nnew state of the $4 \\\\times\\n4$ grid of 2048 puzzle. Again, integer 0 means an empty\\ncell. Note that in this problem, you can ignore the part from\\nthe 2048 puzzle where it introduces a new random tile with a\\nvalue of either 2 or 4 in an empty spot of the board at the\\nstart of a new turn.\\n\\n\\nSample Input 1\\n  Sample Output 1\\n\\n\\n2 0 0 2\\n4 16 8 2\\n2 64 32 4\\n1024 1024 64 0\\n0\\n\\n\\n\\n4 0 0 0\\n4 16 8 2\\n2 64 32 4\\n2048 64 0 0\\n\\n\\nSample Input 2\\nSample Output 2\\n\\n\\n\\n2 0 0 2\\n4 16 8 2\\n2 64 32 4\\n1024 1024 64 0\\n1\\n\\n\\n\\n2 16 8 4\\n4 64 32 4\\n2 1024 64 0\\n1024 0 0 0\\n\\n\\nSample Input 3\\nSample Output 3\\n\\n\\n\\n2 0 0 2\\n4 16 8 2\\n2 64 32 4\\n1024 1024 64 0\\n2\\n\\n\\n\\n0 0 0 4\\n4 16 8 2\\n2 64 32 4\\n0 0 2048 64\\n\\n\\nSample Input 4\\nSample Output 4\\n\\n\\n\\n2 0 0 2\\n4 16 8 2\\n2 64 32 4\\n1024 1024 64 0\\n3\\n\\n\\n\\n2 0 0 0\\n4 16 8 0\\n2 64 32 4\\n1024 1024 64 4\\n\\n\\nSample Input 5\\nSample Output 5\\n\\n\\n\\n2 2 4 8\\n4 0 4 4\\n16 16 16 16\\n32 16 16 32\\n0\\n\\n\\n\\n4 4 8 0\\n8 4 0 0\\n32 32 0 0\\n32 32 32 0\\n\\n\\nSample Input 6\\nSample Output 6\\n\\n\\n\\n2 2 4 8\\n4 0 4 4\\n16 16 16 16\\n32 16 16 32\\n2\\n\\n\\n\\n0 4 4 8\\n0 0 4 8\\n0 0 32 32\\n0 32 32 32\\n\\n'"
      ]
     },
     "execution_count": 14,
     "metadata": {},
     "output_type": "execute_result"
    }
   ],
   "source": [
    "prob = kt.problem('2048')\n",
    "probtext = prob[0]['text']\n",
    "format_2048_text(probtext)"
   ]
  },
  {
   "cell_type": "code",
   "execution_count": null,
   "metadata": {},
   "outputs": [],
   "source": []
  }
 ],
 "metadata": {
  "kernelspec": {
   "display_name": "Python 3",
   "language": "python",
   "name": "python3"
  },
  "language_info": {
   "codemirror_mode": {
    "name": "ipython",
    "version": 3
   },
   "file_extension": ".py",
   "mimetype": "text/x-python",
   "name": "python",
   "nbconvert_exporter": "python",
   "pygments_lexer": "ipython3",
   "version": "3.11.4"
  }
 },
 "nbformat": 4,
 "nbformat_minor": 2
}
